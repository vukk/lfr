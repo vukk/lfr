{
 "cells": [
  {
   "cell_type": "markdown",
   "metadata": {},
   "source": [
    "# Install and load required packages"
   ]
  },
  {
   "cell_type": "code",
   "execution_count": 1,
   "metadata": {
    "collapsed": false
   },
   "outputs": [
    {
     "name": "stderr",
     "output_type": "stream",
     "text": [
      "INFO: Nothing to be done\n",
      "INFO: METADATA is out-of-date — you may not have the latest version of Optim\n",
      "INFO: Use `Pkg.update()` to get the latest versions of your packages\n",
      "INFO: Nothing to be done\n",
      "INFO: METADATA is out-of-date — you may not have the latest version of NLopt\n",
      "INFO: Use `Pkg.update()` to get the latest versions of your packages\n",
      "INFO: Nothing to be done\n"
     ]
    }
   ],
   "source": [
    "#Pkg.add(\"Dataframes\")\n",
    "Pkg.add(\"Optim\") # For L-BFGS <https://github.com/JuliaOpt/Optim.jl#basic-api-introduction>\n",
    "Pkg.add(\"NLopt\")\n",
    "#Pkg.add(\"Orchestra\")\n",
    "#Pkg.add(\"ProfileView\")\n",
    "Pkg.add(\"PyCall\")"
   ]
  },
  {
   "cell_type": "code",
   "execution_count": 2,
   "metadata": {
    "collapsed": false
   },
   "outputs": [],
   "source": [
    "#Pkg.update()"
   ]
  },
  {
   "cell_type": "code",
   "execution_count": 3,
   "metadata": {
    "collapsed": false
   },
   "outputs": [
    {
     "name": "stderr",
     "output_type": "stream",
     "text": [
      "INFO: METADATA is out-of-date — you may not have the latest version of PyCall\n",
      "INFO: Use `Pkg.update()` to get the latest versions of your packages\n"
     ]
    }
   ],
   "source": [
    "using DataArrays, DataFrames\n",
    "using PyCall\n",
    "#using Optim\n",
    "#using NLopt # Nonlinear optimization library http://ab-initio.mit.edu/wiki/index.php/NLopt\n",
    "#using ProfileView"
   ]
  },
  {
   "cell_type": "code",
   "execution_count": 4,
   "metadata": {
    "collapsed": true
   },
   "outputs": [],
   "source": [
    "@pyimport scipy.optimize as scipyopt"
   ]
  },
  {
   "cell_type": "code",
   "execution_count": 5,
   "metadata": {
    "collapsed": false
   },
   "outputs": [
    {
     "data": {
      "text/plain": [
       "8"
      ]
     },
     "execution_count": 5,
     "metadata": {},
     "output_type": "execute_result"
    }
   ],
   "source": [
    "# Set parallel processing cores\n",
    "nprocs()==CPU_CORES || addprocs(CPU_CORES-1)\n",
    "nprocs()"
   ]
  },
  {
   "cell_type": "markdown",
   "metadata": {},
   "source": [
    "# Load the \"Adult\" dataset\n",
    "The Adult dataset is from [here](https://archive.ics.uci.edu/ml/machine-learning-databases/adult/).\n",
    "In categorical data, missing data is handled as just another category. This data set does not contain NA-values in the continuous features."
   ]
  },
  {
   "cell_type": "code",
   "execution_count": 6,
   "metadata": {
    "collapsed": false
   },
   "outputs": [
    {
     "data": {
      "text/plain": [
       "15-element Array{Symbol,1}:\n",
       " :age           \n",
       " :workclass     \n",
       " :fnlwgt        \n",
       " :education     \n",
       " :education_num \n",
       " :marital_status\n",
       " :occupation    \n",
       " :relationship  \n",
       " :race          \n",
       " :sex           \n",
       " :capital_gain  \n",
       " :capital_loss  \n",
       " :hours_per_week\n",
       " :native_country\n",
       " :classification"
      ]
     },
     "execution_count": 6,
     "metadata": {},
     "output_type": "execute_result"
    }
   ],
   "source": [
    "filename_orig_data = \"data/adult.data\"\n",
    "filename_orig_test = \"data/adult.test\"\n",
    "# NOTE: if the data set is very large, we should save the preprocessed data to avoid preprocessing cost.\n",
    "#filename_data = \"data/processed.adult.data\"\n",
    "#filename_test = \"data/processed.adult.test\"\n",
    "\n",
    "# missing_data_marker = \"?\" # can be a string\n",
    "\n",
    "df_orig_data = readtable(filename_orig_data);\n",
    "df_orig_test = readtable(filename_orig_test);\n",
    "\n",
    "# Not in use, let NA values go through as \"?\", handled as yet another category\n",
    "#df_orig_test = readtable(filename_orig_test, nastrings = [\"\", \"NA\", \"?\"]);\n",
    "\n",
    "# df_orig_test[ 1:3, :age ] # Example: selecting subset of rows (1 to 3), from a certain column\n",
    "\n",
    "names(df_orig_data)"
   ]
  },
  {
   "cell_type": "markdown",
   "metadata": {},
   "source": [
    "## Parameters for our model\n",
    "Set $K$ to the number of prototypes. The paper does not discuss how this should be chosen. Here we use the dimension of the original data, when sensitive and classification features are removed."
   ]
  },
  {
   "cell_type": "code",
   "execution_count": 7,
   "metadata": {
    "collapsed": false
   },
   "outputs": [
    {
     "data": {
      "text/plain": [
       "13"
      ]
     },
     "execution_count": 7,
     "metadata": {},
     "output_type": "execute_result"
    }
   ],
   "source": [
    "# Columns to encode with OneHot encoding aka Dummy variables\n",
    "# Remember to not encode sensitive_column_name and classification_column_name\n",
    "# Has to be an array\n",
    "columns_to_encode = [:workclass, :education, :marital_status, :occupation, :relationship, :race, :native_country]\n",
    "\n",
    "# Sensitive column is \"gender\" as in the paper\n",
    "# NOTE: This column must be have only two possible values (be a binary variable)\n",
    "#       as the method in the paper assumes this (\"protected or not protected\").\n",
    "sensitive_column_name = :sex\n",
    "\n",
    "# NOTE: This column must be have only two possible values (be a binary variable)\n",
    "#       as the method in the paper assumes this (binary classification).\n",
    "classification_column_name = :classification\n",
    "\n",
    "# Size or data matrix. -1 for classification/target column and -1 for sensitive column\n",
    "K = size(df_orig_data, 2) - 2"
   ]
  },
  {
   "cell_type": "markdown",
   "metadata": {},
   "source": [
    "## Auxiliary helper functions"
   ]
  },
  {
   "cell_type": "code",
   "execution_count": 8,
   "metadata": {
    "collapsed": false
   },
   "outputs": [
    {
     "data": {
      "text/plain": [
       "partition (generic function with 6 methods)"
      ]
     },
     "execution_count": 8,
     "metadata": {},
     "output_type": "execute_result"
    }
   ],
   "source": [
    "# Handling the categorical variables, using OneHot encoding\n",
    "# https://groups.google.com/forum/#!topic/julia-users/7-Vtpi8w4YI\n",
    "# Would be nice to use DataFrames pool, but couldn't figure out how to get the OneHot-encoded ModelMatrix out nicely.\n",
    "# http://dataframesjl.readthedocs.org/en/latest/pooling.html\n",
    "# http://stackoverflow.com/questions/29158626/dummy-variables-in-julia\n",
    "\n",
    "function getdummy{R}(df::DataFrame, cname::Symbol, ::Type{R})\n",
    "    darr = df[cname]\n",
    "    vals = sort(levels(darr))[2:end]\n",
    "    #namedict = Dict(vals, 1:length(vals))\n",
    "    namedict = Dict(zip(vals,1:length(vals)))\n",
    "    arr = zeros(R, length(darr), length(namedict))\n",
    "    for i=1:length(darr)\n",
    "        if haskey(namedict, darr[i])\n",
    "            arr[i, namedict[darr[i]]] = 1\n",
    "        end\n",
    "    end\n",
    "    newdf = convert(DataFrame, arr)\n",
    "    names!(newdf, [symbol(\"$(cname)_$k\") for k in vals])\n",
    "    return newdf\n",
    "end\n",
    "\n",
    "# Conversion to dummy variables / OneHot encoding\n",
    "function convertdummy{R}(df::DataFrame, cnames::Array{Symbol}, ::Type{R})\n",
    "    # consider every variable from cnames as categorical\n",
    "    # and convert them into set of dummy variables,\n",
    "    # return new dataframe\n",
    "    newdf = DataFrame()\n",
    "    for cname in names(df)\n",
    "        if !in(cname, cnames)\n",
    "            newdf[cname] = df[cname]\n",
    "        else\n",
    "            dummydf = getdummy(df, cname, R)\n",
    "            for dummyname in names(dummydf)\n",
    "                newdf[dummyname] = dummydf[dummyname]\n",
    "            end\n",
    "        end\n",
    "    end\n",
    "    return newdf\n",
    "end\n",
    "\n",
    "# Two parameter version\n",
    "convertdummy(df::DataFrame, cnames::Array{Symbol}) = convertdummy(df, cnames, Int32)\n",
    "\n",
    "\n",
    "# A nice Unicode named summation function. Not really necessary, just something Julia can do.\n",
    "#∑(from::Integer, to::Integer, inner::Function) = sum(inner, colon(from,to))\n",
    "# Test:\n",
    "#f(x, k) = x*k\n",
    "#∑(1, 3, (k) -> f(1, k))\n",
    "\n",
    "# Partition a matrix two, according to given indices or indicator vector.\n",
    "# Your matrices need to be column-major, as this is the Julia memory layout.\n",
    "function partition{T<:Integer}(x::Vector, indices::Vector{T})\n",
    "    return x[ indices ], x[ setdiff(1:length(x), indices) ]\n",
    "end\n",
    "function partition{T<:Integer}(X::Matrix, indices::Vector{T})\n",
    "    return X[ :, indices ], X[ :, setdiff(1:size(X,2), indices) ]\n",
    "end\n",
    "function partition{T<:Integer,U<:Any}(X::SharedArray{U,2}, indices::Vector{T})\n",
    "    return X[ :, indices ], X[ :, setdiff(1:size(X,2), indices) ]\n",
    "end\n",
    "function partition{T<:Bool}(x::Vector, indicator::Vector{T})\n",
    "    return partition(x, find(indicator))\n",
    "end\n",
    "function partition{T<:Bool}(X::Matrix, indicator::Vector{T})\n",
    "    return partition(X, find(indicator))\n",
    "end\n",
    "function partition{T<:Bool,U<:Any}(X::SharedArray{U,2}, indicator::Vector{T})\n",
    "    return partition(X, find(indicator))\n",
    "end\n",
    "# Test:\n",
    "# @which partition([:first, :second, :third, :fourth], [true, false, true, false])\n",
    "# @which partition([:first, :second, :third, :fourth], [1,3])"
   ]
  },
  {
   "cell_type": "markdown",
   "metadata": {},
   "source": [
    "## Use OneHot encoding (dummy variables) for categorical features"
   ]
  },
  {
   "cell_type": "code",
   "execution_count": 9,
   "metadata": {
    "collapsed": false
   },
   "outputs": [],
   "source": [
    "# Profile.clear()\n",
    "# @profile convertdummy(df_orig_all, columns_to_encode)\n",
    "# Profile.print()\n",
    "# Profile.clear()"
   ]
  },
  {
   "cell_type": "code",
   "execution_count": 10,
   "metadata": {
    "collapsed": false,
    "scrolled": true
   },
   "outputs": [
    {
     "name": "stdout",
     "output_type": "stream",
     "text": [
      "Original data (32561,15)(16281,15)(48842,15)\n",
      "Encoded data ("
     ]
    }
   ],
   "source": [
    "# Vertically concatenate to get the whole dataset\n",
    "df_orig_all = vcat(df_orig_data, df_orig_test)\n",
    "print(\"Original data \", size(df_orig_data), size(df_orig_test), size(df_orig_all), \"\\n\")\n",
    "# Do the One-Hot-Encoding / Dummy variables conversion.\n",
    "df_all = convertdummy(df_orig_all, columns_to_encode)\n",
    "\n",
    "### Map sensitive and classification/target columns to appropriate types.\n",
    "\n",
    "# Map Sensitive column \"Male\"/\"Female\" to true/false.\n",
    "# Change this if you change the sensitive column\n",
    "# (maybe do something that automatically just picks one category to be true and other to be false)\n",
    "df_all[ sensitive_column_name ] = map(gender -> gender == \"Female\" ? true : false, df_all[ sensitive_column_name ])\n",
    "df_all[ sensitive_column_name ] = convert(DataArrays.DataArray{Bool,1}, df_all[ sensitive_column_name ])\n",
    "# Map classification column values to 0 and 1\n",
    "df_all[ classification_column_name ] = map(class -> class == \">50K\" ? 1 : 0, df_all[ classification_column_name ])\n",
    "df_all[ classification_column_name ] = convert(DataArrays.DataArray{Integer,1}, df_all[ classification_column_name ])\n",
    "\n",
    "# Read out the converted data back to data and test sets.\n",
    "len_data = size(df_orig_data, 1)\n",
    "len_test = size(df_orig_test, 1)\n",
    "df_data = df_all[1:len_data, :]\n",
    "df_test = df_all[len_data+1:len_data+len_test, :]\n",
    "print(\"Encoded data \", size(df_data), size(df_test), size(df_all), \"\\n\")"
   ]
  },
  {
   "cell_type": "markdown",
   "metadata": {
    "collapsed": false
   },
   "source": [
    "# Code for the model\n",
    "\n",
    "## Notation/Definitions in paper\n",
    "\n",
    "- $X$ denotes the entire data set of individuals. Each $x \\in X$ is a vector of length $D$ where each component of the vector describes some attribute of the person.\n",
    "- $S$ is a binary random variable representing whether or not a given individual is a member of the protected set; we assume the system has access to this attribute.\n",
    "- $X_0$ denotes the training set of individuals.\n",
    "- $X^+ \\subset X$, $X_0^+ \\subset X_0$ denotes the subset of individuals (from the whole set and the training set respectively) that are members of the protected set (i.e., $S = 1$), and $X^−$ and $X_0^−$ denotes the subsets that are not members of the protected set, i.e., $S = 0$.\n",
    "- $Z$ is a multinomial random variable, where each of the $K$ values represents one of the intermediate set of ”prototypes”. Associated with each prototype is a vector $\\mathbf{v}_k$ in the same space as the individuals $\\mathbf{x}$.\n",
    "- $Y$ is the binary random variable representing the classification decision for an individual, and $f : X \\rightarrow Y$ is the desired classification function.\n",
    "- $d$ is a distance measure on $X$, e.g., simple Euclidean distance: $d(\\mathbf{x}_n , \\mathbf{v}_k ) = \\Vert\\mathbf{x}_n − \\mathbf{v}_k \\Vert_2$.\n",
    "\n",
    "## Our changes and clarifications\n",
    "\n",
    "We will differ a bit from the definitions in the paper. The definitions we use are:\n",
    "- $\\mathbf{X}$ denotes the entire data set, a $(N \\times D)$ matrix. The rows of the matrix are the feature vectors $\\mathbf{x}_n$ representing attributes of an individual. $\\mathbf{X}$ contains neither the classification information (target) column, nor the sensitive column.\n",
    "- $S$ is a binary variable representing whether or not a given individual is a member of the \"protected group\". For the user of the algorithm, this is a decision that is done before running the algorithm by setting `sensitive_column_name` in the parameters.\n",
    "- $\\mathbf{X}_{train}$ denotes the training set.\n",
    "- $\\mathbf{X}_{test}$ denotes the test set.\n",
    "- $\\mathbf{X}^+$ denotes the subset of individuals that are members of the \"protected group\" i.e. individuals for whom $S=1$. Similarly $\\mathbf{X}^-$ denotes the subset of individuals for whom $S=0$. It's worthwhile to note that for the algorithm it actually doesn't matter if you flip the groups of who is \"protected\" and who is \"non-protected\", the result will be the same due to symmetry of statistical parity. So don't get too attached to the terminology.\n",
    "- Define $\\mathbf{X}_{train}^+$, $\\mathbf{X}_{train}^-$, $\\mathbf{X}_{test}^+$ and $\\mathbf{X}_{test}^-$ similarly as above.\n",
    "- $d$ is a distance measure on $\\mathbf{X}$ (e.g. euclidean distance).\n",
    "- $K$ is the number of prototypes.\n",
    "- $Z$ is a random integer from the set $\\left\\{1,\\dots,K\\right\\}$.\n",
    "- $Y$ is a binary variable representing the classification decision (we consider binary classification only).\n",
    "\n",
    "Let $Z$ be a random integer from the set $\\left\\{1,\\dots,K\\right\\}$. Now we can denote the probability that a datapoint $\\mathbf{x}$ maps to a particular prototype $k$ with $\\mathbb{P}(Z=k \\mid \\mathbf{x})$ i.e. given a datapoint $\\mathbf{x}$, the probability that $Z$, the index of the prototype for that data point, is $k$.\n",
    "\n",
    "## Definitions in code\n",
    "\n",
    "From the definitions above, we map some to code and also define additional stuff.\n",
    "\n",
    "Julia is Column-Majored, so our matrices will be altered accordingly.\n",
    "\n",
    "- $\\mathbf{X}$ is just `𝐗`, but $(D \\times N)$ instead of $(N \\times D)$.\n",
    "- $\\mathbf{X}_{train}$ is `𝐗train`, $\\mathbf{X}_{test}$ is `𝐗test`.\n",
    "- Grouped versions are `𝐗⁺train`, `𝐗⁻train`, `𝐗⁺test`, and `𝐗⁻test` respectively.\n",
    "- $S$ is defined as multiple vectors `S_<someset>`, each containing the sensitive column for `<someset>`, e.g. `S_𝐗`.\n",
    "- $d$ is defined as a lambda function `d` and plain function `de`.\n",
    "  - The functions implemented here have versions that default to euclidean distance, and versions that accept a user defined distance function.\n",
    "- $Z$ is replaced by $\\mathbf{Z}$, a matrix of probability vectors $\\mathbf{z}$.\n",
    "- The classification information is contained in `𝐲`, `𝐲train`, and `𝐲test`.\n",
    "\n",
    "Additionally:\n",
    "- Denote the tuple of prototypes $\\mathbf{V} = \\left(\\mathbf{v}_1,...,\\mathbf{v}_K\\right)$. Since a single prototype $\\mathbf{v}_k$ is a vector of length $D$, $\\mathbf{V}$ can be expressed as a ($D \\times K$) matrix. This is our optimization variable `𝐕`.\n",
    "- `A` contains the hyperparameters."
   ]
  },
  {
   "cell_type": "code",
   "execution_count": 11,
   "metadata": {
    "collapsed": false
   },
   "outputs": [
    {
     "name": "stdout",
     "output_type": "stream",
     "text": [
      "32561,101)(16281,101)(48842,101)\n",
      "Done."
     ]
    }
   ],
   "source": [
    "# Sensitive indices for training and test data\n",
    "S_𝐗train = convert(Array{Bool}, df_data[ sensitive_column_name ])\n",
    "S_𝐗test = convert(Array{Bool}, df_test[ sensitive_column_name ])\n",
    "\n",
    "# Classification vectors for training and test data\n",
    "𝐲train = convert(Array, df_data[ classification_column_name ])\n",
    "𝐲test = convert(Array, df_test[ classification_column_name ])\n",
    "\n",
    "# Drop sensitive and classification columns\n",
    "idxs_left = setdiff(names(df_data), [sensitive_column_name, classification_column_name])\n",
    "𝐗train = transpose(convert(Matrix{Float64}, df_data[idxs_left]))\n",
    "𝐗test = transpose(convert(Matrix{Float64}, df_test[idxs_left]))\n",
    "# 𝐗train = transpose(convert(Matrix, df_data[idxs_left]))\n",
    "# 𝐗test = transpose(convert(Matrix, df_test[idxs_left]))\n",
    "\n",
    "\n",
    "# Standardize the features with mean 0 variance 1\n",
    "# Otherwise exponentiation gets quickly out of hand, e^-800 is already NaN on Float64\n",
    "# But only standardize non-one-hot-encoded features\n",
    "\n",
    "# Features that are not one-hot-encoded\n",
    "non_encoded = setdiff(names(df_orig_data), [sensitive_column_name, classification_column_name])\n",
    "non_encoded = setdiff(non_encoded, columns_to_encode)\n",
    "# Find indices of those features\n",
    "non_encoded_idxs = find(symbol -> in(symbol, non_encoded), names(df_data[idxs_left]))\n",
    "# Calculate mean and var from training set\n",
    "train_mean = mean(𝐗train,2)[:]\n",
    "train_var = var(𝐗train,2)[:]\n",
    "\n",
    "# # Standardize everything\n",
    "# 𝐗train = 𝐗train .- train_mean # substraction of vector\n",
    "# 𝐗train = 𝐗train ./ train_var # division by vector\n",
    "# # We need to use the same variance and mean for our test set as in the training set,\n",
    "# # otherwise they would not be comparable.\n",
    "# 𝐗test = 𝐗test .- train_mean # same mean as in training, on purpose\n",
    "# 𝐗test = 𝐗test ./ train_var # same variance as in training, on purpose\n",
    "\n",
    "# Only standardize non-one-hot-encoded features\n",
    "for n_idx in non_encoded_idxs\n",
    "    𝐗train[n_idx,:] = 𝐗train[n_idx,:] .- train_mean[n_idx] # substraction\n",
    "    𝐗train[n_idx,:] = 𝐗train[n_idx,:] ./ train_var[n_idx] # division\n",
    "    # We need to use the same variance and mean for our test set as in the training set,\n",
    "    # otherwise they would not be comparable.\n",
    "    𝐗test[n_idx,:] = 𝐗test[n_idx,:] .- train_mean[n_idx] # same mean as in training, on purpose\n",
    "    𝐗test[n_idx,:] = 𝐗test[n_idx,:] ./ train_var[n_idx] # same variance as in training, on purpose\n",
    "end\n",
    "\n",
    "# Reconstruct full dataset\n",
    "𝐗 = hcat(𝐗train, 𝐗test)\n",
    "S_𝐗 = vcat(S_𝐗train, S_𝐗test)\n",
    "𝐲 = vcat(𝐲train, 𝐲test)\n",
    "\n",
    "# Dimensions\n",
    "D = size(𝐗, 1)\n",
    "N = size(𝐗, 2)\n",
    "Ntrain = size(𝐗train, 2)\n",
    "Ntest = size(𝐗test, 2)\n",
    "\n",
    "### Distance function\n",
    "# Lambda\n",
    "d = (𝐚::Vector, 𝐛::Vector) -> vecnorm(𝐚 - 𝐛) # Euclidean distance\n",
    "# Non-lambda is slightly faster for calculations, but has to be defined\n",
    "# for all processes with @everywhere\n",
    "@everywhere de(𝐚::Vector{Float64}, 𝐛::Vector{Float64}) = vecnorm(𝐚 - 𝐛)\n",
    "\n",
    "### Optimization variables\n",
    "# Main optimization variable, matrix holding the prototype vectors.\n",
    "# Initialized to random Float64 matrix, normal distribution 0 mean 1 variance\n",
    "𝐕 = randn(D, K)\n",
    "# # Weights or \"prototype label predictions\" (probabilities)\n",
    "𝐰 = rand(K) # floats in [0,1)\n",
    "# # Alphas\n",
    "𝛂⁺ = rand(D)\n",
    "𝛂⁻ = rand(D)\n",
    "\n",
    "### Hyperparameters\n",
    "A = Dict{Symbol, Float64}(:z=> 1000, :x=> 0.0001, :y=> 0.1)\n",
    "\n",
    "print(\"Done.\")"
   ]
  },
  {
   "cell_type": "code",
   "execution_count": 12,
   "metadata": {
    "collapsed": false
   },
   "outputs": [
    {
     "data": {
      "text/plain": [
       "(1.0,-1.3719338843612912,1.0,-1.3719338843612912,2.9655222356453543,-3.2235667555154937)"
      ]
     },
     "execution_count": 12,
     "metadata": {},
     "output_type": "execute_result"
    }
   ],
   "source": [
    "maximum(𝐗train), minimum(𝐗train), maximum(𝐗test), minimum(𝐗test), maximum(𝐕), minimum(𝐕)"
   ]
  },
  {
   "cell_type": "markdown",
   "metadata": {},
   "source": [
    "Divide training and test sets to groups according to whether the individuals are \"protected\" or not."
   ]
  },
  {
   "cell_type": "code",
   "execution_count": 13,
   "metadata": {
    "collapsed": false,
    "scrolled": false
   },
   "outputs": [
    {
     "data": {
      "text/plain": [
       "(\"Training:\",(99,10771),(99,21790),\"Test:\",(99,5421),(99,10860))"
      ]
     },
     "execution_count": 13,
     "metadata": {},
     "output_type": "execute_result"
    }
   ],
   "source": [
    "(𝐗⁺train, 𝐗⁻train) = partition(𝐗train, S_𝐗train)\n",
    "(𝐗⁺test, 𝐗⁻test) = partition(𝐗test, S_𝐗test)\n",
    "\"Training:\",size(𝐗⁺train), size(𝐗⁻train), \"Test:\", size(𝐗⁺test), size(𝐗⁻test)"
   ]
  },
  {
   "cell_type": "markdown",
   "metadata": {},
   "source": [
    "## Mapping $\\mathbf{X} \\rightarrow \\mathbf{Z}$\n",
    "Now we can define a mapping from the original dataset $\\mathbf{X}$ to probabilities via the *softmax function*. [Wikipedia](https://en.wikipedia.org/wiki/Softmax_function):\n",
    "> Softmax function \"squashes\" a $K$-dimensional vector $\\mathbf{z}$ of arbitrary real values to a $K$-dimensional vector $\\sigma(\\mathbf{z})$ of real values in the range $[0, 1]$ that add up to 1.\n",
    "\n",
    "Most notably `softmax` returns a probability vector. We will define a modified version that maps a $D$-dimensional vector $\\mathbf{x}$ to a $K$-dimensional vector $\\sigma(\\mathbf{x})$, i.e. the mapping won't necessarily preserve the dimensionality of $\\mathbf{x}$.\n",
    "\n",
    "Also from [Wikipedia](https://en.wikipedia.org/wiki/Multinomial_logistic_regression):\n",
    "> $$\\operatorname{softmax}(k,x_1,\\ldots,x_n) = \\frac{e^{x_k}}{\\sum_{i=1}^n e^{x_i}}$$\n",
    "> is referred to as the [*softmax function*](https://en.wikipedia.org/wiki/Softmax_function).  The reason is that the effect of exponentiating the values $x_1,\\ldots,x_n$ is to exaggerate the differences between them.  As a result, $\\operatorname{softmax}(k,x_1,\\ldots,x_n)$ will return a value close to 0 whenever $x_k$ is significantly less than the maximum of all the values, and will return a value close to 1 when applied to the maximum value, unless it is extremely close to the next-largest value.  Thus, the softmax function can be used to construct a weighted average that behaves as a smooth function (which can be conveniently differentiated, etc.) and which approximates the [indicator function](https://en.wikipedia.org/wiki/Indicator_function).\n",
    "\n",
    "So we define, as in the paper equation (2), $$\\mathbb{P}(Z=k \\mid \\mathbf{x}) = \\frac{e^{-d(\\mathbf{x}, \\mathbf{v}_k)}}{\\sum_{j=1}^K e^{-d(\\mathbf{x}, \\mathbf{v}_j)}}$$\n",
    "where\n",
    "- $\\mathbb{P}(Z=k \\mid \\mathbf{x})$ is described in [definitions](#Definitions)\n",
    "- $\\mathbf{x}$ is the datapoint\n",
    "- $\\mathbf{v}_k$ is a vector associated with the $k$th prototype\n",
    "- $d$ is a distance measure between $\\mathbf{x}$ and $\\mathbf{v}_k$ (e.g. the euclidean distance)\n",
    "\n",
    "This means that since we have replaced $x_k$ in the softmax with the negative distance between $\\mathbf{x}$ and prototype $\\mathbf{v}_k$, the softmax returns a value close to 0 whenever the distance from $\\mathbf{x}$ to the prototype $\\mathbf{v}_k$ is significantly higher than $\\min_{j\\in\\{1,\\dots,K\\}}\\, d(\\mathbf{x}, \\mathbf{v}_i)$, and close to 1 when applied to the minimum value.\n",
    "\n",
    "\"Mapping from X to Z\" in the paper means mapping the vector $\\mathbf{x}$ to a probability vector $\\mathbf{z}$ of length $K$ via the softmax function. These probability vectors are then used directly for training the classifier."
   ]
  },
  {
   "cell_type": "markdown",
   "metadata": {},
   "source": [
    "**In code** this means that $\\mathbb{P}(Z=k \\mid \\mathbf{x})$ is represented by a function taking\n",
    "- the data point $\\mathbf{x}$ which is a `Vector` of length $D$\n",
    "- $(D \\times K)$ `Matrix` of prototypes $\\mathbf{V}$ containing all $K$ prototypes $\\mathbf{v}_k$ i.e. each prototype is a `Vector` (remember, Column-Major order on matrices)\n",
    "- a distance measure on $\\mathbf{X}$\n",
    "\n",
    "and returning\n",
    "- a `Vector` $\\mathbf{z}$ of length $K$ representing a [probability vector](https://en.wikipedia.org/wiki/Probability_vector), where each value $z_k$ of the probability vector $\\mathbf{z}$ tells how probable it is that $\\mathbf{x}$ maps to $\\mathbf{v}_k$. Since $\\mathbf{z}$ is a probability vector, $\\sum_{i=k}^K z_k = 1$.\n",
    "\n",
    "We will name this function `softmax` and define it as follows:"
   ]
  },
  {
   "cell_type": "code",
   "execution_count": 14,
   "metadata": {
    "collapsed": false
   },
   "outputs": [
    {
     "data": {
      "text/plain": [
       "softmax_alpha (generic function with 1 method)"
      ]
     },
     "execution_count": 14,
     "metadata": {},
     "output_type": "execute_result"
    }
   ],
   "source": [
    "# TODO: clean up duplicate code\n",
    "\n",
    "### FOR VECTORS; give in 𝐱, get 𝐳\n",
    "\n",
    "# This is same as Eq (2) in paper.\n",
    "function softmax_dist{T<:Number}(𝐱::Vector{T}, 𝐕::Matrix{T}, distanceMeasure::Function)\n",
    "    K = size(𝐕, 2)\n",
    "    res = Vector{Float64}(K)\n",
    "    denominator = Float64(0.0)\n",
    "    # Use one loop to calculate both numerator and denominator\n",
    "    @inbounds for k in 1:K\n",
    "        res[k] = exp(- distanceMeasure(𝐱, 𝐕[:,k]) )\n",
    "        denominator += res[k]\n",
    "    end\n",
    "    denom = inv(denominator)\n",
    "    res .* denom\n",
    "end\n",
    "\n",
    "function softmax_euclidean{T<:Number}(𝐱::Vector{T}, 𝐕::Matrix{T})\n",
    "    K = size(𝐕, 2)\n",
    "    res = Vector{Float64}(K)\n",
    "    denominator = Float64(0.0)\n",
    "    # Use one loop to calculate both numerator and denominator\n",
    "    @inbounds for k in 1:K\n",
    "        res[k] = exp(- vecnorm(𝐱 - 𝐕[:,k]) )\n",
    "        denominator += res[k]\n",
    "    end\n",
    "    denom = inv(denominator)\n",
    "    res .* denom\n",
    "end\n",
    "\n",
    "### FOR MATRICES; give in 𝐗, get 𝐙\n",
    "\n",
    "function softmax_dist{T<:Number}(𝐗::Matrix{T}, 𝐕::Matrix{T}, distanceMeasure::Function)\n",
    "    N = size(𝐗, 2)\n",
    "    K = size(𝐕, 2)\n",
    "    # Preallocate result matrix, no need to zero it\n",
    "    res = Matrix{Float64}(K, N)\n",
    "    @fastmath @inbounds for n in 1:N\n",
    "        res[:,n] = softmax_dist(𝐗[:,n], 𝐕, distanceMeasure)\n",
    "    end\n",
    "    res\n",
    "end\n",
    "\n",
    "# Parallel version\n",
    "function softmax_dist_par{T<:Number}(𝐗::Matrix{T}, 𝐕::Matrix{T}, distanceMeasure::Function)\n",
    "    #nprocs()==CPU_CORES || addprocs(CPU_CORES-1)    \n",
    "    N = size(𝐗, 2)\n",
    "    K = size(𝐕, 2)\n",
    "    # Preallocate result matrix, no need to zero it\n",
    "    res = SharedArray(Float64, (K, N))\n",
    "    @fastmath @sync @parallel for n in 1:N\n",
    "        for k in 1:K\n",
    "            res[k,n] = exp(- distanceMeasure(𝐗[:,n], 𝐕[:,k]) )\n",
    "        end\n",
    "        res[:,n] = res[:,n] .* inv(sum(res[:,n]))\n",
    "    end\n",
    "    res\n",
    "end\n",
    "\n",
    "function softmax_euclidean{T<:Number}(𝐗::Matrix{T}, 𝐕::Matrix{T})\n",
    "    N = size(𝐗, 2)\n",
    "    K = size(𝐕, 2)\n",
    "    # Preallocate result matrix, no need to zero it\n",
    "    res = Matrix{Float64}(K, N)\n",
    "    @fastmath @inbounds for n in 1:N\n",
    "        denominator = Float64(0.0)\n",
    "        # Use one loop to calculate both numerator and denominator\n",
    "        for k in 1:K\n",
    "            res[k,n] = exp(- vecnorm(𝐗[:,n] - 𝐕[:,k]) )\n",
    "            denominator += res[k,n]\n",
    "        end\n",
    "        res[:,n] = res[:,n] .* inv(denominator)\n",
    "    end\n",
    "    res\n",
    "end\n",
    "\n",
    "# Parallel version\n",
    "#function softmax_euclidean_par{T<:Number}(𝐗::Matrix{T}, 𝐕::Matrix{T})\n",
    "function softmax_euclidean_par(𝐗::Matrix{Float64}, 𝐕::Matrix{Float64})\n",
    "    #nprocs()==CPU_CORES || addprocs(CPU_CORES-1)\n",
    "    N = size(𝐗, 2)\n",
    "    K = size(𝐕, 2)\n",
    "    # Preallocate result matrix, no need to zero it\n",
    "    res = SharedArray(Float64, (K, N))\n",
    "    @fastmath @sync @parallel for n in 1:N\n",
    "        for k in 1:K\n",
    "            res[k,n] = exp(- vecnorm(𝐗[:,n] - 𝐕[:,k]) )\n",
    "        end\n",
    "        res[:,n] = res[:,n] .* inv(sum(res[:,n]))\n",
    "    end\n",
    "    res\n",
    "end\n",
    "\n",
    "# Version that accepts alphas, uses the distance function defined in the paper as Eq (12)\n",
    "function softmax_alpha(𝐗::Matrix{Float64}, 𝐕::Matrix{Float64}, 𝛂::Vector{Float64})\n",
    "    localD = length(𝛂)\n",
    "    N = size(𝐗, 2)\n",
    "    K = size(𝐕, 2)\n",
    "    # Preallocate result matrix, no need to zero it\n",
    "    res = Matrix{Float64}(K, N)\n",
    "    @fastmath @inbounds @simd for n in 1:N\n",
    "        for k in 1:K\n",
    "            dm::Float64 = zero(Float64)\n",
    "            for i in 1:localD # Eq (12)\n",
    "                dm += 𝛂[i]*((𝐗[i,n]-𝐕[i,k])^2)\n",
    "            end\n",
    "            res[k,n] = exp(- dm )\n",
    "        end\n",
    "        res[:,n] = res[:,n] .* inv(sum(res[:,n]))\n",
    "    end\n",
    "    res\n",
    "    # Slower alternatives for distance calculation, replacing the 1:localD loop:\n",
    "    # return 𝛂 ⋅ ((𝐚-𝐛).^2) # Eq (12)\n",
    "    # return sum(i -> 𝛂[i]*(𝐚[i]-𝐛[i])^2, 1:localD) # Eq (12)\n",
    "end"
   ]
  },
  {
   "cell_type": "code",
   "execution_count": 15,
   "metadata": {
    "collapsed": false
   },
   "outputs": [
    {
     "name": "stdout",
     "output_type": "stream",
     "text": [
      "  "
     ]
    }
   ],
   "source": [
    "@time for i in 1:25\n",
    "    softmax_alpha(𝐗train, 𝐕, 𝛂⁺);\n",
    "end"
   ]
  },
  {
   "cell_type": "code",
   "execution_count": 16,
   "metadata": {
    "collapsed": false
   },
   "outputs": [
    {
     "name": "stdout",
     "output_type": "stream",
     "text": [
      "1.257258 seconds (8.10 M allocations: 577.591 MB, 9.74% gc time)\n"
     ]
    }
   ],
   "source": [
    "# For development\n",
    "𝐙pre = softmax_euclidean_par(𝐗train, 𝐕)\n",
    "𝐙pre⁺ = softmax_euclidean_par(𝐗⁺train, 𝐕)\n",
    "𝐙pre⁻ = softmax_euclidean_par(𝐗⁻train, 𝐕);\n",
    "\n",
    "𝐙preu = sdata(𝐙pre)\n",
    "𝐙preu⁺ = sdata(𝐙pre⁺)\n",
    "𝐙preu⁻ = sdata(𝐙pre⁻);"
   ]
  },
  {
   "cell_type": "markdown",
   "metadata": {},
   "source": [
    "This approach is akin to using a funky [multinomial logistic regression](https://en.wikipedia.org/wiki/Multinomial_logistic_regression) to \"predict the prototype\" (category) where a data point $\\mathbf{x}$ maps to.\n",
    "Wikipedia:\n",
    "> These are all statistical classification problems. They all have in common a dependent variable to be predicted that comes from one of a limited set of items which cannot be meaningfully ordered, as well as a set of independent variables (also known as features, explanators, etc.), which are used to predict the dependent variable. Multinomial logit regression is a particular solution to the classification problem that assumes that a linear combination of the observed features and some problem-specific parameters can be used to determine the probability of each particular outcome of the dependent variable. The best values of the parameters for a given problem are usually determined from some training data.\n"
   ]
  },
  {
   "cell_type": "markdown",
   "metadata": {},
   "source": [
    "## Parts of the optimization objective\n",
    "\n",
    "### $L_z$ &mdash; statistical parity\n",
    "In code, we will denote $L_z$ with function `Lz`."
   ]
  },
  {
   "cell_type": "code",
   "execution_count": 17,
   "metadata": {
    "collapsed": false
   },
   "outputs": [
    {
     "data": {
      "text/plain": [
       "Lz (generic function with 4 methods)"
      ]
     },
     "execution_count": 17,
     "metadata": {},
     "output_type": "execute_result"
    }
   ],
   "source": [
    "### \"NAIVE\" VERSION FOR UNDERSTANDING THE IMPLEMENTATION\n",
    "\n",
    "function LzNaive{T<:Number}(𝐗⁺::Matrix{T}, 𝐗⁻::Matrix{T}, 𝐕::Matrix{T}, dist::Function)\n",
    "    # Operate on matrices and take mean from sample dimension N\n",
    "    meanp = mean( softmax_dist_par(𝐗⁺, 𝐕, dist), 2 ) # Eq (6)\n",
    "    meann = mean( softmax_dist_par(𝐗⁻, 𝐕, dist), 2 ) # Similarly for M_k^-\n",
    "    sum(abs(meanp - meann)) # Eq (7), sum is from k=1 to K\n",
    "end\n",
    "\n",
    "### VERSIONS TAKING IN THE DATA SET AND PROTOTYPES\n",
    "# Optionally a distance measure function can be passed as an argument\n",
    "\n",
    "function Lz{T<:Number}(𝐗⁺::Matrix{T}, 𝐗⁻::Matrix{T}, 𝐕::Matrix{T})\n",
    "    return Lz(sdata(softmax_euclidean_par(𝐗⁺, 𝐕)), sdata(softmax_euclidean_par(𝐗⁻, 𝐕)))\n",
    "end\n",
    "\n",
    "function Lz{T<:Number}(𝐗⁺::Matrix{T}, 𝐗⁻::Matrix{T}, 𝐕::Matrix{T}, dist::Function)\n",
    "    return Lz(sdata(softmax_dist_par(𝐗⁺, 𝐕, dist)), sdata(softmax_dist_par(𝐗⁻, 𝐕, dist)))\n",
    "end\n",
    "\n",
    "# # TODO: use parallel version of softmax_dist_alpha?\n",
    "# function Lz{T<:Number,U<:Number}(𝐗⁺::Matrix{T}, 𝐗⁻::Matrix{T}, 𝐕::Matrix{T}, dist::Function, 𝛂::Vector{U})\n",
    "#     return Lz(softmax_dist_alpha(𝐗⁺, 𝐕, dist, 𝛂), softmax_dist_alpha(𝐗⁻, 𝐕, dist, 𝛂))\n",
    "# end\n",
    "\n",
    "### VERSION FOR PRECALCULATED 𝐙⁺ and 𝐙⁻\n",
    "# Note we have only a version for matrices. This is because during performance\n",
    "# testing I noticed that\n",
    "#\n",
    "#   ZZZp = sdata(𝐙shared⁺)\n",
    "#   ZZZn = sdata(𝐙shared⁻)\n",
    "#   Lz(ZZZp, ZZZn)\n",
    "#\n",
    "# is faster than\n",
    "#\n",
    "#   Lz(𝐙shared⁺, 𝐙shared⁻)\n",
    "#\n",
    "# So use the Matrix version always and if necessary lift the matrices out\n",
    "# of the SharedArray with sdata().\n",
    "#\n",
    "# TODO: is there way to make a faster parallel version?\n",
    "#function Lz{T<:Number}(𝐙⁺::SharedArray{T,2}, 𝐙⁻::SharedArray{T,2})\n",
    "function Lz(𝐙⁺::SharedArray{Float64,2}, 𝐙⁻::SharedArray{Float64,2})\n",
    "    Lz(sdata(𝐙⁺), sdata(𝐙⁻))\n",
    "end\n",
    "\n",
    "#function Lz{T<:Number}(𝐙⁺::Matrix{T}, 𝐙⁻::Matrix{T})\n",
    "function Lz(𝐙⁺::Matrix{Float64}, 𝐙⁻::Matrix{Float64})\n",
    "    # Operate on matrices and take mean from sample dimension N\n",
    "    meanp = mean( 𝐙⁺, 2 ) # Eq (6)\n",
    "    meann = mean( 𝐙⁻, 2 ) # Similarly for M_k^-\n",
    "    sum(abs(meanp - meann)) # Eq (7), sum is from k=1 to K\n",
    "end"
   ]
  },
  {
   "cell_type": "code",
   "execution_count": 18,
   "metadata": {
    "collapsed": false
   },
   "outputs": [
    {
     "data": {
      "text/plain": [
       "0.027302755576335054"
      ]
     },
     "execution_count": 18,
     "metadata": {},
     "output_type": "execute_result"
    }
   ],
   "source": [
    "foo1=mean( 𝐙pre⁺, 2 )\n",
    "foo2=mean( 𝐙pre⁻, 2 )\n",
    "sum(abs(foo1-foo2))"
   ]
  },
  {
   "cell_type": "code",
   "execution_count": 19,
   "metadata": {
    "collapsed": false
   },
   "outputs": [
    {
     "data": {
      "text/plain": [
       "(0.027481022829630115,0.027302755576335054,0.027302755576335054)"
      ]
     },
     "execution_count": 19,
     "metadata": {},
     "output_type": "execute_result"
    }
   ],
   "source": [
    "# Test (e.g. somewhere between 0.02 and 0.07, depending on 𝐕 randomization)\n",
    "LZtrain1 = Lz(𝐗⁺test, 𝐗⁻test, 𝐕)\n",
    "LZtrain2 = Lz(𝐙pre⁺, 𝐙pre⁻)\n",
    "LZtrain3 = Lz(𝐙preu⁺, 𝐙preu⁻)\n",
    "(LZtrain1, LZtrain2, LZtrain3)"
   ]
  },
  {
   "cell_type": "code",
   "execution_count": 20,
   "metadata": {
    "collapsed": false
   },
   "outputs": [
    {
     "name": "stdout",
     "output_type": "stream",
     "text": [
      "  "
     ]
    }
   ],
   "source": [
    "@time for i in 1:5000\n",
    "    Lz(𝐙pre⁺, 𝐙pre⁻)\n",
    "end"
   ]
  },
  {
   "cell_type": "code",
   "execution_count": 21,
   "metadata": {
    "collapsed": false
   },
   "outputs": [
    {
     "name": "stdout",
     "output_type": "stream",
     "text": [
      "1.287014 seconds (110.00 k allocations: 7.706 MB)\n",
      "  "
     ]
    }
   ],
   "source": [
    "@time for i in 1:5000\n",
    "    Lz(𝐙pre⁺, 𝐙pre⁻)\n",
    "end"
   ]
  },
  {
   "cell_type": "markdown",
   "metadata": {},
   "source": [
    "### $L_x$ &mdash; information loss\n",
    "In code, we will denote $L_x$ with function `Lx`."
   ]
  },
  {
   "cell_type": "code",
   "execution_count": 22,
   "metadata": {
    "collapsed": true
   },
   "outputs": [],
   "source": [
    "# Symbols: 𝐗 ⁺ ⁻ ∑ 𝐕 𝐱 𝐲 𝐙 𝐳"
   ]
  },
  {
   "cell_type": "markdown",
   "metadata": {},
   "source": [
    "Note .* elementwise multiplication of softmax_dist() and V, there is no \\cdot in the paper in Eq (9), dot product would return a scalar."
   ]
  },
  {
   "cell_type": "code",
   "execution_count": 23,
   "metadata": {
    "collapsed": false
   },
   "outputs": [
    {
     "data": {
      "text/plain": [
       "Lx (generic function with 4 methods)"
      ]
     },
     "execution_count": 23,
     "metadata": {},
     "output_type": "execute_result"
    }
   ],
   "source": [
    "### NAIVE VERSION FOR UNDERSTANDING THE IMPLEMENTATION\n",
    "\n",
    "function LxNaive{T<:Number,U<:Number}(𝐗::Matrix{T}, 𝐕::Matrix{U}, dist::Function)\n",
    "    D = size(𝐗, 1)\n",
    "    N = size(𝐗, 2)\n",
    "    K = size(𝐕, 2)\n",
    "    𝐗hat = zeros(Float64, (D,N))\n",
    "    sum = Float64(0.0)\n",
    "    for n in 1:N\n",
    "        𝐳_n = softmax_dist(𝐗[:,n], 𝐕, dist) # prob that x_n maps to protos (Array{13,1})\n",
    "        for k in 1:K # Eq (9)\n",
    "            𝐗hat[:,n] = 𝐗hat[:,n] + (𝐳_n[k] * 𝐕[:,k])\n",
    "        end\n",
    "        sum += (𝐗[:,n] - 𝐗hat[:,n]) ⋅ (𝐗[:,n] - 𝐗hat[:,n]) # Eq (8)\n",
    "    end\n",
    "    return sum, 𝐗hat\n",
    "end\n",
    "\n",
    "### VERSIONS TAKING IN THE DATA SET AND PROTOTYPES\n",
    "# Optionally a distance measure function can be passed as an argument\n",
    "\n",
    "function Lx{T<:Number,U<:Number}(𝐗::Matrix{T}, 𝐕::Matrix{U})\n",
    "    return Lx(softmax_euclidean_par(𝐗, 𝐕), 𝐗, 𝐕)\n",
    "end\n",
    "\n",
    "function Lx{T<:Number,U<:Number}(𝐗::Matrix{T}, 𝐕::Matrix{U}, dist::Function)\n",
    "    return Lx(softmax_dist_par(𝐗, 𝐕, dist), 𝐗, 𝐕)\n",
    "end\n",
    "\n",
    "### VERSION FOR PRECALCULATED 𝐙\n",
    "\n",
    "#function Lx{T<:Number}(𝐙::SharedArray{T,2}, 𝐗::Matrix{T}, 𝐕::Matrix{T})\n",
    "function Lx(𝐙::SharedArray{Float64,2}, 𝐗::Matrix{Float64}, 𝐕::Matrix{Float64})\n",
    "    Lx(sdata(𝐙), 𝐗, 𝐕)\n",
    "end\n",
    "\n",
    "#function Lx{T<:Number}(𝐙::Matrix{T}, 𝐗::Matrix{T}, 𝐕::Matrix{T})\n",
    "function Lx(𝐙::Matrix{Float64}, 𝐗::Matrix{Float64}, 𝐕::Matrix{Float64})\n",
    "    𝐗minus𝐗hat = 𝐗 - (𝐕 * 𝐙) # Eq (8) and (9) combined\n",
    "    return vecdot(𝐗minus𝐗hat, 𝐗minus𝐗hat) # \"simple squared error\"\n",
    "end"
   ]
  },
  {
   "cell_type": "code",
   "execution_count": 24,
   "metadata": {
    "collapsed": false
   },
   "outputs": [
    {
     "name": "stdout",
     "output_type": "stream",
     "text": [
      "1.291827 seconds (111.57 k allocations: 7.788 MB, 0.81% gc time)\n"
     ]
    },
    {
     "data": {
      "text/plain": [
       "(498838.41146110586,498838.41146110586,498838.41146110586)"
      ]
     },
     "execution_count": 24,
     "metadata": {},
     "output_type": "execute_result"
    }
   ],
   "source": [
    "# Test (e.g. 423475.8479283692)\n",
    "LXtrain1 = Lx(𝐗train, 𝐕, d)\n",
    "LXtrain2 = Lx(𝐙pre, 𝐗train, 𝐕)\n",
    "LXtrain3 = Lx(𝐙preu, 𝐗train, 𝐕)\n",
    "(LXtrain1, LXtrain2, LXtrain3)"
   ]
  },
  {
   "cell_type": "code",
   "execution_count": 25,
   "metadata": {
    "collapsed": false
   },
   "outputs": [
    {
     "name": "stdout",
     "output_type": "stream",
     "text": [
      "  "
     ]
    }
   ],
   "source": [
    "@time for i in 1:50\n",
    "    Lx(𝐙pre, 𝐗train, 𝐕)\n",
    "end"
   ]
  },
  {
   "cell_type": "markdown",
   "metadata": {},
   "source": [
    "### $L_y$ &mdash; prediction accuracy\n",
    "In code, we will denote $L_y$ with function `Ly`.\n",
    "\n",
    "Essentially here we are letting the optimization pick both the prototypes (i.e. feature vectors) and their predictions (i.e. labels), and the predictions don't have to be discrete 0 and 1, but can be from the range $[0,1]$ and thus themselves can be viewed as probabilities. E.g. let's say that for prototype $v_k$ it's prediction $w_k = 0.82$, then \"there is a 82% chance prototype $\\mathbf{v}_k$ gets label 1\""
   ]
  },
  {
   "cell_type": "code",
   "execution_count": 26,
   "metadata": {
    "collapsed": false
   },
   "outputs": [
    {
     "data": {
      "text/plain": [
       "Ly (generic function with 4 methods)"
      ]
     },
     "execution_count": 26,
     "metadata": {},
     "output_type": "execute_result"
    }
   ],
   "source": [
    "### NAIVE VERSION TO HELP UNDERSTAND THE IMPLEMENTATION\n",
    "\n",
    "function LyNaive{T1<:Number,T2<:Number,T3<:Number}(\n",
    "        𝐗::Matrix{T1}, 𝐕::Matrix{T1}, 𝐲::Vector{T2}, 𝐰::Vector{T3}, dist::Function\n",
    "    )\n",
    "    D = size(𝐗, 1)\n",
    "    N = size(𝐗, 2)\n",
    "    K = size(𝐕, 2)\n",
    "    𝐲hat = zeros(Float64, N)\n",
    "    sum = Float64(0.0)\n",
    "    # Replace 𝐲hat in Eq (10) with Eq (11), then you get this for loop\n",
    "    for n in 1:N\n",
    "        𝐙_n = softmax_dist(𝐗[:,n], 𝐕, dist) # Vector of length K\n",
    "        for k in 1:K\n",
    "            𝐲hat[n] = 𝐲hat[n] + (𝐙_n[k] * 𝐰[k])\n",
    "        end\n",
    "        # The following line could be replaced with\n",
    "        # if 𝐲[n] == 1\n",
    "        #    sum -= log(𝐲hat[n])\n",
    "        # else # 𝐲[n] == 0\n",
    "        #    sum -= log(1 - 𝐲hat[n])\n",
    "        # end\n",
    "        sum += -𝐲[n] * log(𝐲hat[n])  -  (1 - 𝐲[n]) * log(1 - 𝐲hat[n])\n",
    "    end\n",
    "    #return sum, 𝐲hat\n",
    "    return sum\n",
    "end\n",
    "\n",
    "### VERSIONS TAKING IN THE DATA SET AND PROTOTYPES\n",
    "# Optionally a distance measure function can be passed as an argument\n",
    "\n",
    "function Ly{T1<:Number,T2<:Number,T3<:Number}(\n",
    "        𝐗::Matrix{T1}, 𝐕::Matrix{T1}, 𝐲::Vector{T2}, 𝐰::Vector{T3}\n",
    "    )\n",
    "    # 𝐙 = softmax_euclidean_par(𝐗, 𝐕)\n",
    "    return Ly(softmax_euclidean_par(𝐗, 𝐕), 𝐲, 𝐰)\n",
    "end\n",
    "\n",
    "function Ly{T1<:Number,T2<:Number,T3<:Number}(\n",
    "        𝐗::Matrix{T1}, 𝐕::Matrix{T1}, 𝐲::Vector{T2}, 𝐰::Vector{T3}, dist::Function\n",
    "    )\n",
    "    # 𝐙 = softmax_dist_par(𝐗, 𝐕, dist)\n",
    "    return Ly(softmax_dist_par(𝐗, 𝐕, dist), 𝐲, 𝐰)\n",
    "end\n",
    "\n",
    "### VERSION FOR PRECALCULATED 𝐙\n",
    "\n",
    "# function Ly{T1<:Number,T2<:Number,T3<:Number}(\n",
    "#         𝐙::Matrix{T1}, 𝐲::Vector{T2}, 𝐰::Vector{T3}\n",
    "#     )\n",
    "#     # Copy to shared memory\n",
    "#     𝐙shared = convert(SharedArray{T1, 2}, 𝐙)\n",
    "#     return Ly(𝐙shared, 𝐲, 𝐰)\n",
    "# end\n",
    "\n",
    "# Slower:\n",
    "# function Ly{T1<:Number,T2<:Number,T3<:Number}(\n",
    "#         𝐙::SharedArray{T1,2}, 𝐲::Vector{T2}, 𝐰::Vector{T3}\n",
    "#     )\n",
    "#     N = size(𝐙, 2)\n",
    "#     # Keep 𝐙 as SharedArray, will be faster than taking sdata() when fed to the following @parallel loop\n",
    "#     sum = @parallel (+) for n in 1:N # Eq (10)\n",
    "#         yhat_n = 𝐙[:,n] ⋅ 𝐰 # Eq (11)\n",
    "#         - 𝐲[n] * log(yhat_n) - (1 - 𝐲[n]) * log(1 - yhat_n)\n",
    "#     end\n",
    "#     return sum\n",
    "# end\n",
    "\n",
    "#function Ly{T1<:Number,T2<:Number,T3<:Number}(𝐙::SharedArray{T1,2}, 𝐲::Vector{T2}, 𝐰::Vector{T3})\n",
    "function Ly(𝐙::SharedArray{Float64,2}, 𝐲::Vector{Integer}, 𝐰::Vector{Float64})\n",
    "    Ly(sdata(𝐙), 𝐲, 𝐰)\n",
    "end\n",
    "\n",
    "#function Ly{T1<:Number,T2<:Number,T3<:Number}(𝐙::Matrix{T1}, 𝐲::Vector{T2}, 𝐰::Vector{T3})\n",
    "function Ly(𝐙::Matrix{Float64}, 𝐲::Vector{Integer}, 𝐰::Vector{Float64})\n",
    "    N = size(𝐙, 2)\n",
    "    sum = zero(Float64)\n",
    "    𝐲hat = 𝐰' * 𝐙 # Eq (11)\n",
    "    𝐲hat = reshape(𝐲hat, length(𝐲hat))\n",
    "    for n in 1:N # Eq (10)\n",
    "        sum += - 𝐲[n] * log(𝐲hat[n]) - (1 - 𝐲[n]) * log(1 - 𝐲hat[n])\n",
    "    end\n",
    "    return sum\n",
    "end\n",
    "\n",
    "# Slower:\n",
    "# function Ly2{T1<:Number,T2<:Number,T3<:Number}(𝐙::Matrix{T1}, 𝐲::Vector{T2}, 𝐰::Vector{T3})\n",
    "#     tsup = (𝐰' * 𝐙) # # Eq (10) and (11)\n",
    "#     tsup = reshape(tsup, length(tsup))\n",
    "#     return -dot(𝐲, log(tsup)) + -dot(1 - 𝐲, log(1 - tsup))\n",
    "# end"
   ]
  },
  {
   "cell_type": "code",
   "execution_count": 27,
   "metadata": {
    "collapsed": false
   },
   "outputs": [
    {
     "name": "stdout",
     "output_type": "stream",
     "text": [
      "1.115882 seconds (450 allocations: 2.402 GB, 25.17% gc time)\n"
     ]
    },
    {
     "data": {
      "text/plain": [
       "(22262.47348763899,22262.47348763899,22262.47348763899)"
      ]
     },
     "execution_count": 27,
     "metadata": {},
     "output_type": "execute_result"
    }
   ],
   "source": [
    "# Test (e.g. 20572.03833866735)\n",
    "LYtrain1 = Ly(𝐗train, 𝐕, 𝐲train, 𝐰)\n",
    "LYtrain2 = Ly(𝐙pre, 𝐲train, 𝐰)\n",
    "LYtrain3 = Ly(𝐙preu, 𝐲train, 𝐰)\n",
    "(LYtrain1, LYtrain2, LYtrain3)"
   ]
  },
  {
   "cell_type": "code",
   "execution_count": 28,
   "metadata": {
    "collapsed": false
   },
   "outputs": [
    {
     "name": "stdout",
     "output_type": "stream",
     "text": [
      "  "
     ]
    }
   ],
   "source": [
    "@time for i in 1:200\n",
    "    Ly(𝐙pre, 𝐲train, 𝐰)\n",
    "end"
   ]
  },
  {
   "cell_type": "markdown",
   "metadata": {},
   "source": [
    "## Optimization objective function"
   ]
  },
  {
   "cell_type": "code",
   "execution_count": 29,
   "metadata": {
    "collapsed": false
   },
   "outputs": [
    {
     "data": {
      "text/plain": [
       "objective_pre_alpha (generic function with 1 method)"
      ]
     },
     "execution_count": 29,
     "metadata": {},
     "output_type": "execute_result"
    }
   ],
   "source": [
    "# Overall objective function\n",
    "objective_euclidean(𝐗, 𝐗⁺, 𝐗⁻, 𝐕, 𝐲, 𝐰, A) = A[:z]*Lz(𝐗⁺, 𝐗⁻, 𝐕) + A[:x]*Lx(𝐗, 𝐕) + A[:y]*Ly(𝐗, 𝐕, 𝐲, 𝐰)\n",
    "objective_dist(𝐗, 𝐗⁺, 𝐗⁻, 𝐕, 𝐲, 𝐰, A, dist) = A[:z]*Lz(𝐗⁺, 𝐗⁻, 𝐕, dist) + A[:x]*Lx(𝐗, 𝐕, dist) + A[:y]*Ly(𝐗, 𝐕, 𝐲, 𝐰, dist)\n",
    "function objective_pre(𝐗::Matrix, S::Vector{Bool}, 𝐕::Matrix, 𝐲::Vector, 𝐰::Vector, A::Dict)\n",
    "    # Calculate 𝐙 and partitions once\n",
    "    𝐙 = softmax_euclidean_par(𝐗, 𝐕)\n",
    "    (𝐙⁺, 𝐙⁻) = partition(𝐙, S)\n",
    "    # Use functions that accept precalculated 𝐙\n",
    "    return A[:z]*Lz(𝐙⁺, 𝐙⁻) + A[:x]*Lx(𝐙, 𝐗, 𝐕) + A[:y]*Ly(𝐙, 𝐲, 𝐰)\n",
    "end\n",
    "function objective_pre_alpha(𝐗::Matrix{Float64}, S::Vector{Bool}, 𝐕::Matrix{Float64}, 𝐲::Vector{Integer}, 𝐰::Vector{Float64}, A::Dict{Symbol, Float64}, 𝛂⁺::Vector{Float64}, 𝛂⁻::Vector{Float64})\n",
    "    # Calculate 𝐙 and partitions\n",
    "    (𝐗⁺, 𝐗⁻) = partition(𝐗, S)\n",
    "    (𝐲⁺, 𝐲⁻) = partition(𝐲, S)\n",
    "    𝐙⁺ = softmax_alpha(𝐗⁺, 𝐕, 𝛂⁺)\n",
    "    𝐙⁻ = softmax_alpha(𝐗⁻, 𝐕, 𝛂⁻)\n",
    "    # Use functions that accept precalculated 𝐙\n",
    "    return A[:z]*Lz(𝐙⁺, 𝐙⁻) + A[:x]*Lx(𝐙⁺, 𝐗⁺, 𝐕) + A[:x]*Lx(𝐙⁻, 𝐗⁻, 𝐕) + A[:y]*Ly(𝐙⁺, 𝐲⁺, 𝐰) + A[:y]*Ly(𝐙⁻, 𝐲⁻, 𝐰)\n",
    "end"
   ]
  },
  {
   "cell_type": "code",
   "execution_count": 30,
   "metadata": {
    "collapsed": false
   },
   "outputs": [
    {
     "name": "stdout",
     "output_type": "stream",
     "text": [
      "1.328887 seconds (39.07 M allocations: 645.969 MB, 7.48% gc time)\n"
     ]
    },
    {
     "data": {
      "text/plain": [
       "2303.433945486345"
      ]
     },
     "execution_count": 30,
     "metadata": {},
     "output_type": "execute_result"
    }
   ],
   "source": [
    "objective_euclidean(𝐗train, 𝐗⁺train, 𝐗⁻train, 𝐕, 𝐲train, 𝐰, A)"
   ]
  },
  {
   "cell_type": "code",
   "execution_count": 31,
   "metadata": {
    "collapsed": false
   },
   "outputs": [
    {
     "data": {
      "text/plain": [
       "2303.433945486345"
      ]
     },
     "execution_count": 31,
     "metadata": {},
     "output_type": "execute_result"
    }
   ],
   "source": [
    "objective_pre(𝐗train, S_𝐗train, 𝐕, 𝐲train, 𝐰, A)"
   ]
  },
  {
   "cell_type": "code",
   "execution_count": 32,
   "metadata": {
    "collapsed": false
   },
   "outputs": [
    {
     "data": {
      "text/plain": [
       "4289.296447216689"
      ]
     },
     "execution_count": 32,
     "metadata": {},
     "output_type": "execute_result"
    }
   ],
   "source": [
    "objective_pre_alpha(𝐗train, S_𝐗train, 𝐕, 𝐲train, 𝐰, A, 𝛂⁺, 𝛂⁻)"
   ]
  },
  {
   "cell_type": "code",
   "execution_count": 33,
   "metadata": {
    "collapsed": false
   },
   "outputs": [
    {
     "data": {
      "text/plain": [
       "1166.0227023755394"
      ]
     },
     "execution_count": 33,
     "metadata": {},
     "output_type": "execute_result"
    }
   ],
   "source": [
    "objective_euclidean(𝐗test, 𝐗⁺test, 𝐗⁻test, 𝐕, 𝐲test, 𝐰, A)"
   ]
  },
  {
   "cell_type": "code",
   "execution_count": 34,
   "metadata": {
    "collapsed": false
   },
   "outputs": [
    {
     "name": "stdout",
     "output_type": "stream",
     "text": [
      "  5.876999 seconds (2.78 M allocations: 587.746 MB, 2.23% gc time)\n",
      "  2.212362 seconds (2.16 M allocations: 587.245 MB, 5.43% gc time)\n",
      "  "
     ]
    }
   ],
   "source": [
    "@time for i in 1:10\n",
    "    objective_euclidean(𝐗train, 𝐗⁺train, 𝐗⁻train, 𝐕, 𝐲train, 𝐰, A)\n",
    "end\n",
    "@time for i in 1:10\n",
    "    objective_pre(𝐗train, S_𝐗train, 𝐕, 𝐲train, 𝐰, A)\n",
    "end\n",
    "@time for i in 1:10\n",
    "    objective_pre_alpha(𝐗train, S_𝐗train, 𝐕, 𝐲train, 𝐰, A, 𝛂⁺, 𝛂⁻)\n",
    "end\n",
    "#   5.893515 seconds (2.78 M allocations: 587.989 MB, 2.30% gc time)\n",
    "#   2.160700 seconds (2.17 M allocations: 587.461 MB, 5.33% gc time)\n",
    "#   1.329052 seconds (5.16 M allocations: 1.008 GB, 35.83% gc time)"
   ]
  },
  {
   "cell_type": "code",
   "execution_count": 35,
   "metadata": {
    "collapsed": false
   },
   "outputs": [
    {
     "data": {
      "text/plain": [
       "benchmark (generic function with 1 method)"
      ]
     },
     "execution_count": 35,
     "metadata": {},
     "output_type": "execute_result"
    }
   ],
   "source": [
    "function fun_to_profile(n::Int)\n",
    "   for i in 1:n\n",
    "        objective_pre_alpha(𝐗train, S_𝐗train, 𝐕, 𝐲train, 𝐰, A, 𝛂⁺, 𝛂⁻)\n",
    "    end\n",
    "end\n",
    "\n",
    "# Profiling\n",
    "profiling_logfile = \"profile.bin\"\n",
    "function benchmark()\n",
    "    # Any setup code goes here.\n",
    "\n",
    "    # Run once, to force compilation.\n",
    "    println(\"======================= First run:\")\n",
    "    srand(666)\n",
    "    @time fun_to_profile(1)\n",
    "\n",
    "    # Run a second time, with profiling.\n",
    "    println(\"\\n\\n======================= Second run:\")\n",
    "    srand(666)\n",
    "    Profile.init(delay=0.01)\n",
    "    Profile.clear()\n",
    "    Profile.clear_malloc_data()\n",
    "    @profile @time fun_to_profile(50)\n",
    "    \n",
    "    Profile.print()\n",
    "\n",
    "#     # Write profile results to profile.bin.\n",
    "#     r = Profile.retrieve()\n",
    "#     f = open(profiling_logfile, \"w\")\n",
    "#     serialize(f, r)\n",
    "#     close(f)\n",
    "end\n",
    "\n",
    "# function show_profiling()\n",
    "#     f = open(profiling_logfile)\n",
    "#     r = deserialize(f);\n",
    "#     ProfileView.view(r[1], lidict=r[2])\n",
    "# end"
   ]
  },
  {
   "cell_type": "code",
   "execution_count": 36,
   "metadata": {
    "collapsed": false
   },
   "outputs": [],
   "source": [
    "# benchmark()"
   ]
  },
  {
   "cell_type": "code",
   "execution_count": 37,
   "metadata": {
    "collapsed": true
   },
   "outputs": [],
   "source": [
    "#show_profiling()"
   ]
  },
  {
   "cell_type": "markdown",
   "metadata": {},
   "source": [
    "## Test optimization run"
   ]
  },
  {
   "cell_type": "code",
   "execution_count": 89,
   "metadata": {
    "collapsed": false
   },
   "outputs": [
    {
     "data": {
      "text/plain": [
       "obj_func (generic function with 2 methods)"
      ]
     },
     "execution_count": 89,
     "metadata": {},
     "output_type": "execute_result"
    }
   ],
   "source": [
    "count = 0 # keep track of # function evaluations\n",
    "#function obj_func(x::Vector, grad::Vector)\n",
    "function obj_func(x::Vector{Float64})\n",
    "#function obj_func(x::Vector)\n",
    "    #return sum(x)\n",
    "    # Increase count\n",
    "    global count\n",
    "    count::Int += 1\n",
    "    \n",
    "    # Print progress\n",
    "    if count % 50 == 0\n",
    "        @printf(\"Round %d\\n\", count)\n",
    "    end\n",
    "    \n",
    "    # Get 𝐕, 𝐰, 𝛂⁺, 𝛂⁻\n",
    "    loc𝐕 = reshape(x[1:length(𝐕)], size(𝐕)) # Uses the global 𝐕 for size\n",
    "    cursor = length(𝐕)\n",
    "    loc𝛂⁺ = x[cursor+1:cursor+length(𝛂⁺)]\n",
    "    cursor += length(𝛂⁺)\n",
    "    loc𝛂⁻ = x[cursor+1:cursor+length(𝛂⁻)]\n",
    "    cursor += length(𝛂⁻)\n",
    "    loc𝐰 = x[cursor+1:cursor+length(𝐰)]\n",
    "    #return size(loc𝐕), size(loc𝛂⁺), size(loc𝛂⁻), size(loc𝐰)\n",
    "    return objective_pre_alpha(\n",
    "        𝐗train::Matrix{Float64},\n",
    "        S_𝐗train::Vector{Bool},\n",
    "        loc𝐕::Vector{Float64},\n",
    "        𝐲train::Vector{Integer},\n",
    "        loc𝐰::Vector{Float64},\n",
    "        A::Dict{Symbol, Float64},\n",
    "        loc𝛂⁺::Vector{Float64},\n",
    "        loc𝛂⁻::Vector{Float64}\n",
    "    )\n",
    "#     if length(grad) > 0:\n",
    "#         ...set grad to gradient, in-place...\n",
    "#     return ...value of f(x)...\n",
    "end"
   ]
  },
  {
   "cell_type": "code",
   "execution_count": 39,
   "metadata": {
    "collapsed": false
   },
   "outputs": [
    {
     "name": "stdout",
     "output_type": "stream",
     "text": [
      "1.388751 seconds (5.16 M allocations: 1.008 GB, 33.68% gc time)\n",
      "search: r"
     ]
    },
    {
     "data": {
      "text/latex": [
       "\\begin{verbatim}\n",
       "reshape(A, dims)\n",
       "\\end{verbatim}\n",
       "Create an array with the same data as the given array, but with different dimensions. An implementation for a particular type of array may choose whether the data is copied or shared.\n"
      ],
      "text/markdown": [
       "```\n",
       "reshape(A, dims)\n",
       "```\n",
       "\n",
       "Create an array with the same data as the given array, but with different dimensions. An implementation for a particular type of array may choose whether the data is copied or shared.\n"
      ],
      "text/plain": [
       "```\n",
       "reshape(A, dims)\n",
       "```\n",
       "\n",
       "Create an array with the same data as the given array, but with different dimensions. An implementation for a particular type of array may choose whether the data is copied or shared.\n"
      ]
     },
     "execution_count": 39,
     "metadata": {},
     "output_type": "execute_result"
    }
   ],
   "source": [
    "?reshape"
   ]
  },
  {
   "cell_type": "code",
   "execution_count": 40,
   "metadata": {
    "collapsed": false
   },
   "outputs": [
    {
     "data": {
      "text/plain": [
       "((99,13),(1,13),(99,),(99,))"
      ]
     },
     "execution_count": 40,
     "metadata": {},
     "output_type": "execute_result"
    },
    {
     "name": "stdout",
     "output_type": "stream",
     "text": [
      "eshape promote_shape\n",
      "\n"
     ]
    }
   ],
   "source": [
    "size(𝐕),size(𝐰'),size(𝛂⁺),size(𝛂⁻)"
   ]
  },
  {
   "cell_type": "code",
   "execution_count": 41,
   "metadata": {
    "collapsed": false
   },
   "outputs": [],
   "source": [
    "optVarInit = vcat(reshape(𝐕, length(𝐕)), reshape(𝛂⁺, length(𝛂⁺)), reshape(𝛂⁻, length(𝛂⁻)), reshape(𝐰, length(𝐰)));"
   ]
  },
  {
   "cell_type": "code",
   "execution_count": 45,
   "metadata": {
    "collapsed": false
   },
   "outputs": [
    {
     "data": {
      "text/plain": [
       "1-element Array{Integer,1}:\n",
       " 0"
      ]
     },
     "execution_count": 45,
     "metadata": {},
     "output_type": "execute_result"
    }
   ],
   "source": [
    "zeros(Integer,1)"
   ]
  },
  {
   "cell_type": "code",
   "execution_count": 71,
   "metadata": {
    "collapsed": false
   },
   "outputs": [],
   "source": [
    "bounds_lower = vcat(fill(-Inf, length(𝐕)), zeros(length(𝛂⁺) + length(𝛂⁻) + length(𝐰)));\n",
    "bounds_upper = vcat(fill(+Inf, length(𝐕)), ones(length(𝛂⁺) + length(𝛂⁻) + length(𝐰)));\n",
    "length(optVarInit), length(bounds_lower), length(bounds_upper)\n",
    "bounds = collect(zip(bounds_lower, bounds_upper));"
   ]
  },
  {
   "cell_type": "code",
   "execution_count": 72,
   "metadata": {
    "collapsed": false
   },
   "outputs": [
    {
     "data": {
      "text/plain": [
       "3-element Array{Tuple{Float64,Float64},1}:\n",
       " (-Inf,Inf)\n",
       " (-Inf,Inf)\n",
       " (-Inf,Inf)"
      ]
     },
     "execution_count": 72,
     "metadata": {},
     "output_type": "execute_result"
    }
   ],
   "source": [
    "# bounds = collect(zip(zeros(3), ones(3)))\n",
    "bounds[1:3]"
   ]
  },
  {
   "cell_type": "code",
   "execution_count": 90,
   "metadata": {
    "collapsed": false
   },
   "outputs": [
    {
     "ename": "LoadError",
     "evalue": "LoadError: PyError (:PyObject_Call) <class 'TypeError'>\nTypeError('Julia exception: TypeError(:obj_func,\"typeassert\",Array{Float64,1},[0.7020796100086467 1.982739364672351 1.9104003906909102 0.4121258707018093 -0.22486936681626096 2.3075965239307643 -0.5770865719381716 1.552748674300808 1.0173030985328941 -0.3607993872091218 0.31829312794240333 -0.004153910407344055 -0.5128810383744409\\n -1.3739056401895118 0.8295878656789475 0.3609350767975557 0.19464942243718789 -2.421845118693326 -1.7819257609146597 -0.861471004713513 -0.8054207914151559 -1.3579570996856027 1.9285978126313763 1.16737734601621 0.3473649494756153 -0.41763901636334144\\n -0.13123320277248593 -1.1898163876266716 0.8591972023015223 -1.4945768920289924 0.8200841830376676 -0.7974343334211279 0.6333282127131068 1.1623342190685058 1.2388932197797373 0.4292640369855796 -1.4521352094533797 -0.7821132084406914 -0.7129062107386668\\n -1.820448824588141 1.0393849534185113 -0.1956524169777577 -0.5549409964388514 1.009297887455869 -0.9664192515690493 1.9116791192089988 -1.1500577597767856 0.6568354704813427 1.2413104472790863 1.029773421245475 -0.0976463360218974 -0.8849806354302133\\n -0.40877631744061155 0.06857263342948322 0.1274246440189565 0.025735278661471864 -0.4814829636168667 0.21724295144258352 -0.5621949690784623 0.6948780916537088 0.3715808193170206 -1.7638337735777023 -0.08630408632842505 -0.48906708376947733 -0.3630263459337162\\n 1.84126789295009 0.9425398807617075 1.160884774531147 -1.3987101823082166 -0.6503685157710121 0.5543512026687886 -0.8167979843984882 0.6379867832140711 0.8212168798759916 1.5281839494298557 0.4553759251654904 0.8901941566824556 -1.040587021218738\\n -1.0390744024132395 0.17027943163098674 2.309180363623132 1.372762784324509 0.6111016640791921 0.8159283986102477 1.252038899445798 -1.0548377225277912 0.8029917518597046 -1.0662864861035568 0.7033302035293683 0.659927044938813 1.101750413283036\\n 0.8615111317834645 0.6000427745399977 0.1575454882968028 0.2782035894925227 -0.28269323045459865 1.3595034127600856 -0.5271505076913541 1.0700881378095188 0.3015965591963333 0.2805690695801748 -0.5439212068059575 -0.13519772461476448 0.07585264841117796\\n 1.1969166080697242 0.49494455139172755 0.3674025872415859 -2.0496017406455382 0.6810774167465157 -0.542278290772128 1.3921920653725792 -0.44224420106042434 -0.33109874475566986 -1.5704876240787786 1.9386614146764878 0.779444492215438 -0.9762188310239354\\n 0.9631967446058998 0.24850756573756128 -1.664092273773475 -0.09375439688259511 -0.09336367569025197 0.051499931665757274 0.4329244452123189 -0.1208033175745148 0.7409270195674355 -0.8219584423417158 0.20383257748597777 0.1926414564053999 -0.6694886492544354\\n 0.13283034920389056 1.0965072285337583 0.057824097442129546 -1.658990226472056 -1.3340364696696234 -0.6365013378004515 -1.6938691951556089 -0.5371186537630515 0.8700871191882363 -0.07085358073493525 -0.1058690550270816 0.8886519962253755 1.3296581132665666\\n 2.732194555826585 -0.1825584961834258 -0.6098819285146095 0.7653257848104661 -2.075874180156552 -1.0957892222030103 -0.7131039114862632 0.46880408636106835 0.7077905812620401 2.0992728110339347 0.1883809523898902 1.330805677686647 -0.8037040413888733\\n -1.6673233026283774 -0.806056945484242 -0.6829849087959453 -1.8870753640156674 -1.320940561388796 -0.1555944254153443 -0.7362243488283065 -0.5463436296458996 1.39759951200519 -1.260465126251096 0.6468777121309728 -0.247600691488269 -1.1179586913758712\\n -1.1596914004159715 -0.8251232750403044 -1.3496449725138007 -0.6967418518278283 -0.012452424616791512 -0.4697261216507483 -0.8874773261468921 0.49251949378355725 0.448322774029839 -1.0544558090902056 0.92645333920057 -1.0805120847756398 -0.3025412529075129\\n 1.2892614210615367 1.7939961913112727 -1.2891484086951468 0.8646064334165608 -2.854244030933972 0.1926147910305953 0.8788687000404855 -0.2508101405601616 0.34443912578762104 -1.4727247993053074 1.4651879083929935 0.16264410587601685 -0.3734651309768654\\n 0.9090017595762203 0.6906281377200469 -0.7689898845522387 0.9301663676413919 -0.8452828362858215 0.3111807804069249 -0.5977611918763367 -0.3516110382252402 -0.9651465503756272 -1.1143362152977616 -0.816184696884541 0.1202272847732074 1.0199831805412474\\n 0.1486854501432561 -0.7667433012232506 -1.3351051549617736 -1.215023025173744 1.087493403440381 0.9273494743216862 0.47385890657158714 -0.3331670642400474 0.5161481770592684 0.432879516327233 -1.3238547563015175 0.9581984997030201 1.7020397402670688\\n 0.027224681665497238 0.6221575894404181 -0.2471530591478446 1.578105309791835 -0.21305670756280584 1.2278700425642743 -0.7273007338418104 -0.37163513520941754 -2.1804901219388793 0.8552623581743378 -0.7673715483809624 2.133403508718202 -1.6742240672480218\\n -2.780381699647889 -0.2157388216286073 1.2274293069001774 0.8523668281524601 -0.722446214584031 -0.050062654194238956 1.1688893183793996 -1.6364090099603283 1.5882668198575447 2.293176901959972 0.9958014465622874 -0.27482403751047824 0.5675521581010382\\n -1.5476192929501904 -0.9101293742334061 -2.1310224536626787 -0.1293412398099971 -1.133841711397841 0.9873502779453387 1.6897861901966407 0.44573373955051904 0.8386998416601663 0.6860721434189894 -2.080999993354929 1.0321019846670396 -0.2935262675763384\\n 0.32097518281300697 -0.32214148714744567 0.9254583336121103 0.24943305355003015 -0.19391620190017828 -0.793558056265533 -1.5957828433761934 0.7732892249157045 -0.47568683980530496 0.7740317726320782 0.37863682759563394 1.9662215813665223 0.6788653144524713\\n -0.064968105306386 -0.27808204754463667 0.20415445351133288 2.2690070294377054 -1.4674438799970255 0.13902660289378876 -0.6733863808436199 0.08310824950653922 1.3769766296770969 -1.4112978153409967 -0.70898530445027 -0.9793888319644746 -0.5576619705715564\\n -0.08429371165103698 1.2692626950269938 -2.8305883018201508 -1.3826507408680642 0.3873186455128111 0.152729205529654 -1.0288719271457905 -0.05420403996265777 0.9043788284424525 -0.29979631661444645 0.20218472089322748 -0.8553268797591941 0.8900041243051138\\n 0.5738078560356421 0.19345633377103683 0.9323567509288989 0.1604634328112003 0.6732896593616061 0.5821212256547583 -0.39607006941967643 -1.5732846913157186 0.22009493178710457 0.6073503237251302 0.013945114297601495 1.4318425805949881 0.1264023618427466\\n -0.24781993574264996 2.184045705615377 -1.9167082183907795 -0.03854999987777516 2.3216743531433197 -2.1041549297785833 1.3498519867310452 -0.6632502783545332 -0.5598147185875927 1.4764524153081773 0.786542947055423 0.0884487925957736 -0.06081818553562276\\n 0.28813604103663615 -0.9394356898779409 -0.060025936398052315 1.6501613308225842 -1.126254550264479 -0.20263894242043395 0.4609958718256648 0.8190250701233103 -0.873027248048519 0.7161178581360673 -0.2395450672926208 0.7076458207286378 1.1631172953744797\\n -1.2039968566435828 0.34816387074503585 0.6371374783027614 1.7342027064477823 -1.0027523736708197 -1.179552218340675 0.2552178970049602 0.42000771808461546 0.04378364282546021 0.08749837614366215 -0.1442838313307662 0.7645237708359056 0.3612645598428024\\n -0.14667656302133364 -0.8346643952078658 -1.2667127158826095 1.0339309843451312 0.4527704380307886 -0.9373537061076649 0.3232642114315169 0.06827625638601208 0.6771544566332783 -1.0300221458120686 -0.8188739417576812 -1.230373288483551 0.6559640477121705\\n -1.078094503596768 -0.29488150415458875 1.141483831631783 -0.5203029258641151 -0.4739299375716247 1.0899682961008468 2.8720094467479282 -0.6782713658570395 -0.287971924504155 -1.1102808965089022 -0.19381639761370892 -0.8638948432626012 -0.14920347593137404\\n 0.21933305871941414 -1.4697264786662252 -0.10398151144373029 0.7094845208346356 -0.5216175676893658 0.4115801450513653 1.1246527793457126 -2.1566989324095136 0.592451662878747 -0.9368470740267733 1.945738641626139 -0.733777629105778 0.1912161980643466\\n -0.5637690622726995 -1.5881232898654307 0.32556678682330514 -0.7467569928247282 0.6877456492162219 0.4631876985356636 -2.5830521845163172 0.05963979637209197 -1.1925156898014824 -0.9027256100362623 0.549415309306569 -0.2466626707735934 0.5563863114432226\\n 0.7875388137253643 -0.5997754962279493 -1.7646952168607435 0.536192231075204 -0.1318513357965193 0.678854757831934 -0.6771921994100693 -0.43615534321152105 0.08671819265499492 0.2795529802877498 -0.668064225712831 -1.2561562515638345 0.11557853492634841\\n 1.1906709580499069 0.2487322505346474 -0.9889421759810443 -0.6596401953838112 -0.9809470224241184 0.7038907659511457 -1.4555552956187978 -1.9156533785255043 0.8738367878621167 -1.1388109662775578 0.5431256811277307 -0.2291196004362939 0.019505853447457883\\n 2.2487755057503676 2.5469159176626692 -0.7100698388847103 1.3777427867220113 0.27720142348714366 -0.7850190977449468 0.0022570917060568945 -0.9119870524014566 0.35267411390585635 0.44399450125235573 -0.12134134501442702 -1.3485440079560627 0.6775671883729848\\n 1.5280381808624703 0.17816470805151524 0.9760481389972582 -1.0286044664675884 -0.5176677936869981 0.1205567629253463 -0.501084874674611 -2.5320827117771083 -1.753268585480883 0.5869479484573893 0.246595875147455 0.7147966820490941 -0.43837342070481017\\n -0.3298337537789666 -1.104365690987599 0.5756786585790782 2.444884605226661 -2.1368262285060906 0.9538216109503324 -0.4327565353204818 0.9222071695544718 -1.7154247668316929 0.8003683381516085 -0.3917712179763739 -0.25572652858199274 0.47348801389425943\\n -0.7528599246898814 2.7426934737793824 -1.548449962970703 1.4424724607311348 -0.46420619520348627 0.05563675051651234 -0.32974692007218503 0.5034500192897856 0.012868856237302353 0.08376575711293655 1.9430845532981658 1.939294877874585 1.3277438969054778\\n -0.11520308148341481 -0.32232416605941866 0.5767886603590078 0.8384849594866494 1.0322724188471242 0.8445431994339264 0.33762402356592747 -0.9620854762317214 -0.20071362404740092 0.7992254966234729 1.4282573807280894 -1.299756035477679 0.681105293430429\\n 0.3620808419766064 0.32413349283933535 0.6817873479698716 -0.3542794946536637 -1.0130934251439034 1.7979689695268177 0.6226185778643027 0.2934388741886176 1.4418933148346131 0.190673243814774 0.49462459495856737 0.3422837797548092 0.6536932478861076\\n 0.9566371188846213 -0.46250866890084824 0.4252277118133269 0.8701333463312914 1.144228583502836 0.5964449608973617 -0.30155620108778763 -0.017728969271242883 -0.00652889721514959 -0.058876185009781506 -1.1742270995650426 -0.9572656875682137 -1.5012632284589262\\n 0.5560295213476836 0.6013234067695056 -2.089142508070344 -1.3994780047827295 0.03797234235097847 0.9398834309162534 1.721814958665199 0.18788427975782612 -0.8479579020096609 1.382826263105517 0.5039053000339743 -1.3917631873176333 0.6916045061594651\\n -0.4088330243050758 1.7598477325412112 1.4754235114645904 -1.4249201137747558 -0.7656605899024264 0.4820040546918723 -1.2179881601345468 -1.5328112467608872 0.027702360694916155 -1.1593460813112137 -0.710212305622836 0.06746274372875477 -1.7720998927266438\\n -0.8918939049385214 1.4417814486954414 1.7314064110897225 0.5672793559635291 -0.5465979313063722 1.7685655243647875 -0.05539733987171853 1.3308178053486626 0.14479542430882403 0.21533780692110915 -0.9209613241264825 1.09160190140231 -1.5527145913267613\\n -1.1039167021329421 0.3158151878516852 0.7999252542405214 -2.5500376835235774 -1.0937465951523198 -0.6058762334752498 0.4526235385053577 -2.380264637549032 0.7282597352601536 1.8533912606414071 -0.6492503604998691 0.03359674461059913 -1.3208767188183215\\n 0.9271241919835012 1.4413000068477357 0.7405365650538884 1.0879077559715713 -1.6876031754047893 -0.7657713171829303 -1.7988654733243798 0.36045199659302257 0.8474809803803616 0.1783260967551584 -2.3353582103031267 0.08823081004602798 -0.49373096314898535\\n -2.0966029970912277 -0.044446277606030066 0.9643696581663826 0.9124093959361467 0.18719175625106713 -0.34422313565849616 -1.2471016646980368 -0.08617361492382059 -0.3676066381006185 1.1134970757994918 -0.5035723719343291 -0.6153562036158682 -0.32428179369750465\\n 0.9813927924841359 -0.5078686428100238 0.25242485759159206 -1.8227493757730115 -0.3523786776109686 0.0749584216112894 -0.560406935748913 1.5939575973957547 0.5091463297065969 -0.48552149884989304 -0.7963023807084217 -0.29104332242328385 -0.7353029981930971\\n 0.28605541972973436 -1.1511845354738484 -0.7512597430898379 -0.14079082051357664 -1.2013404463791837 0.3581554035342122 -1.8379622346922477 -0.1821204658351514 0.4998703307257513 -1.3469106269107727 -0.766310315935852 0.1324712811092351 0.12576379026514192\\n 0.5090086691558994 -0.31196567191873614 0.7535971420934409 1.279486961393225 0.1758184536729367 0.7928764259460506 1.026856631320009 0.48655000133323895 0.3692811934278855 -0.5470090086763782 -1.0354769712485041 -0.5036198407603258 -0.5668561659084554\\n 0.9242647611434957 -1.437385760163643 0.9626018037952007 1.2248036959663933 1.6412082126010141 -0.655707636652133 0.9095583585621558 -1.9800992332526037 -0.2911909577460149 -1.0489018636895697 -1.580014823692262 0.21162744663236233 1.0188088740697117\\n 0.10220879065399839 -0.4181514754496925 1.0516535601927461 0.06520711824848159 0.030350478928352225 -1.9982765648640075 -0.17349541902392163 -0.13626290498297505 -0.9743062329810936 -0.11575897859152956 0.22538483056461764 -0.2927033526336056 -0.20898571277934053\\n 1.6542473784899479 0.7625325737676674 -0.5100274052500046 0.6109381421150879 0.897595683941011 -0.8491892031430778 -0.4897214950647823 -0.011280989939102782 1.8002852847483715 0.12377912367679705 0.4908091633343163 1.2409449738082263 0.7514536578620946\\n 2.0348183219065414 -0.525732451555475 -0.8373569113980746 0.6649723519211488 0.0270903720267557 -1.1247291804639397 -0.5757484261090556 0.6262668703000682 -1.0855117410072992 0.8194914740948047 -1.0177309039004445 0.6684581932778821 -0.8999311463288898\\n 0.9777053786729367 -2.123577935089639 -1.562058554670249 -1.6620275768442492 -0.11174559139743957 1.3655907917524128 1.2677613916495702 -1.0426682718649918 1.0585387751669664 1.0508055138261325 0.34241613878621613 0.010881901973036573 0.03361438550250916\\n -0.10443646525695557 -0.3824910650174072 2.418858900078421 -2.17090191837145 0.982420574614046 -0.37721517603485144 -1.2504692039509075 0.29571132430014524 0.7521891491361169 -0.31032647721934503 0.6248160401101512 0.47793945094531476 1.1029091332963337\\n -0.530233503275987 -1.7672355790757546 -0.383529021169097 0.25830910062511936 0.35943364521920573 -0.22049539868951396 0.24961636810362864 0.6883992514661019 -3.1028965799788777 -0.12642354023021204 0.9489678481350107 0.6823257956728477 -0.5295509472873684\\n -0.10716273074143828 -0.5111161803639039 -0.7604338625292666 -0.06554961182997701 1.6610527588583428 -0.48903372295339975 -0.0053866044766691205 0.3132737359770148 0.5875184232902017 0.28981806755483003 -0.5389384811223277 1.6273531455288823 1.6286076867170203\\n 0.6234980276591352 0.339650350497738 0.11869372722260985 -0.2262972770934266 -0.6031158956125297 1.511550593569532 -1.9991675672388218 0.2020136173289834 -1.7355229980389244 -0.6347603550894074 1.4822220111487614 -1.1260693550161678 0.4535913715174177\\n -0.024996260220556073 0.9842094169209021 0.1502960150910038 -0.7459527737574964 -0.6470013241357482 0.18503221390552027 0.1250500050361838 -1.1468979033646547 1.136151277977662 -1.600630867140083 -1.0198532235682987 2.0571418617630264 -0.5955666617706245\\n 2.6032450012890553 0.7081541675703379 0.23159582663698167 -0.9881283932248447 1.2237409357910485 0.6038237541126 0.5301156950682946 -0.6658852870614126 0.0023816976792051963 0.2509096815990323 -2.3911933757678705 -0.09675846576242522 -1.3074135954404273\\n 2.408113219025182 1.088176438927698 -0.9845638259305471 0.8804730240503128 0.5669982202118468 -1.014506162271598 -0.16391163853325352 -0.21903734676876446 -0.2889951265010217 1.734158476728003 1.263507519078261 -0.3773795650161331 -1.1699754803175821\\n 0.4368586228603578 -0.5153497959266797 2.1693418986740944 0.7165401977118272 -0.41020336464642904 -0.2056264207404249 0.7798283536704884 0.10636209786241337 1.0741986991982841 -0.6366770757181253 -1.3350061259160404 -1.4401067865511141 1.2656992529336075\\n 0.32628561872530887 0.5056518077189993 -3.0628803495386325 0.8737361189984321 -0.27682716021309595 -0.15550791317408538 0.5568157340566261 -0.8029249677805869 -0.5058429779677608 0.9857866045439623 0.9336779887908769 0.8112764349128568 1.2026469284999104\\n 1.7963029268008461 0.17244561202930253 1.2605358086553815 0.2293440528078642 0.22974012494226165 0.051622173790502324 0.8261895137908933 0.3294782298297084 1.4244908641808998 -1.5822547820994732 -0.7227023795012676 1.4535609307395159 -0.7273675324680808\\n -1.0291560310545904 0.9408761592685282 0.7971527775785201 0.600210442967675 0.8114919629917523 1.3535954888597768 0.4165631485194942 -1.0364678003489398 -0.0948000345415164 0.5595148838900365 -0.44746243187201856 -2.0109289482472152 -0.3748372569521163\\n 0.264404453762369 -1.019979239788224 -0.1392944025514436 -0.7784723387257243 1.1672778659125977 -0.6359240311586868 -0.8075685837428155 0.8573196994737619 -0.6662491373027497 -0.9381776455682188 0.23846199177520896 0.4499190635876687 -0.7339956093956725\\n 0.4508418811986173 -0.02308654750702062 0.6433511602124496 -0.2789086410537875 -0.32892540751444965 -1.0462782085076514 2.0666009617700998 0.672513034151509 -1.6755723211605895 -1.144263324519334 1.301931677144966 0.3794383698705723 -0.794863023810237\\n 0.21295977700208618 0.2489423534834145 0.2284072312615091 -0.6154771774613131 -1.5787704099760411 0.28099308578245735 -1.2218960409132615 -1.9789879516812663 -0.7623577512720513 -0.46372635058617323 -0.09275275828429616 -1.360271417542343 -0.9395778865346267\\n -0.7662470119888796 1.199481960941542 1.518375688582621 -1.2217143869269358 -0.5038535956547396 -0.19037116526135361 1.3921624692484975 1.7543844654207392 -0.7932222901427018 -0.5181574648710587 0.36591763718239007 1.0003192064424722 0.06643407590415965\\n -0.3857377688473567 0.3684822000440362 0.8398698339292844 -1.2637371016043266 0.4598007404286228 -0.10462132642372621 0.9193530858484024 -0.9103072313491958 1.3145687604498584 -1.8103175119998105 0.17469635849805074 -0.12890053658148923 0.23653539077825791\\n -2.9627394404708025 0.0981085112259807 -0.39399755448327073 -0.20240456812269822 1.1848599491221252 -0.4151999647484064 1.6536845965086935 -0.9325013483220823 -1.556859419413431 -0.6123902775871995 -0.523955510847599 -0.09238172302962584 -0.7025163778980538\\n -0.24256152280765325 0.3775431581645769 0.06485610363344377 0.2618614693755951 -1.018545135852924 -0.22076893641874687 -0.10677264049823641 -1.7621943161307865 0.522513030032189 0.45674729847757917 -1.1302129784758854 1.5822029858559263 -1.3597931582179787\\n 0.12142661183291871 -1.1049002518489848 -0.6017103663668938 -1.2497089705528144 0.46406951039290345 1.4589390792273274 -0.5272496471047627 0.5895733047143037 0.2781895883918578 0.26296998643839 -1.0797899773213637 -1.270517708912864 2.730093973797742\\n -0.13223384851721967 0.5991400434517543 -0.9684147717048708 1.3621807672236652 -0.931274988253083 -1.381847063645141 0.0018243384987936765 2.2155578924232655 0.6193536322127745 -0.498577482944412 -1.1280022425124543 -0.36540748228591674 -0.7218456946366614\\n 0.7769324283846009 1.0893601944718287 -1.7997602805970738 0.9797852427571523 -0.26407344329362287 2.077701282719863 1.6007103698225462 -0.5205889290800921 -0.8060990070213998 0.5763195513811952 -0.8310639841752162 0.2400809773142802 1.7496458882441626\\n 0.9442948309681026 0.6345319696058658 0.012459886386850036 -0.007481663582504531 -1.2155572727439845 0.04927168077332436 1.2018336539524068 0.1828346594852126 -1.0983151384475842 -0.1302412572718122 0.024241316608739263 0.06992442076306511 1.1755867302533842\\n -0.312569859386454 -0.532795343394182 -0.3825171212873613 -0.05685639091638796 2.0021501566878523 0.20290719492894757 -2.2729389064593915 0.4445805725855035 -0.17262257227936537 1.1796396008821193 -0.26300927017968123 -1.3238672119550887 0.8293621415106457\\n 0.8190462369174449 0.9660992309028726 0.6779415804913572 0.5708266541604183 1.2524021933741902 -2.609109227233193 0.7966047135835032 0.30710899450390033 -0.43419322933446725 -0.28287943133652177 -1.2361184511027066 0.9574384458459836 0.11578984373036201\\n 0.4635899793064 1.1135877211233494 -0.567602604527952 -1.5335545546499352 0.9720149340251772 0.4571518868314425 0.9022993265136807 -1.7727523751855911 -1.305905745590765 -0.36919220896120275 -0.742949556343289 1.2156839151367393 -1.2642064452979545\\n -0.21776037046737198 -0.5974375696899058 0.32346222981871675 1.6048648353703951 0.6541595462011021 0.14219106617826907 -0.3818935862575552 1.858506042925086 1.1269572512465678 -0.5324152661623768 -0.3635077113278564 -1.2877180092951688 1.0370090882529592\\n -0.9908455798629986 1.0711076808856554 -0.4508002352969499 -1.152885228881501 -0.647001488258921 -0.4015752886964203 -1.6584239020894533 -0.8987087225824769 -0.11750786017115503 0.9640282686091005 -1.0590320336805803 -0.040749186561733215 0.8996418746497455\\n -0.38327270898554605 2.2229535687898685 1.3245154443113447 0.6669316795407594 -0.301844950508878 0.7232338683507578 0.769860572313631 -0.10114522078696025 -0.3788589443163403 -0.08019119407043719 -1.2982450896864124 0.4015344091289167 -0.6849371188085561\\n -0.13736687125560754 0.11977432695976939 0.49137623485876963 -0.829449350580118 -1.1825986036687937 0.4409135074549187 -1.344768961909338 0.23876372823460054 1.1397381133295303 0.4910840299416182 0.5739594410319432 0.636305895170186 0.8531892374643868\\n 0.8975594421344559 -0.48730659216011246 -0.28893604357267566 -0.501665616138854 -0.6433768529314934 -2.0831923126485012 -0.04724323681381707 0.09251417139460684 1.5046429298932322 -1.5852205528616625 0.00671518051904307 -0.11136837263944922 0.842457307005556\\n 1.2118204887783408 -2.51677018255424 2.9655222356453543 -1.0289742924836667 -0.6751362621244332 1.91120655519681 0.646596698598731 -0.45627203380071957 0.3648541698344871 0.43967903115122225 -1.1534839049713246 -1.2769174058410622 -1.4565759219531451\\n 1.230222049564724 -1.2173476664968144 1.728487117894725 0.9738954113916317 -0.18339336749415916 -1.6564657035543464 -0.622959399910876 -1.8924974530720597 2.54747705894868 0.3285834491998741 -0.44816572820216166 -0.4225698632811367 -0.8325794002787732\\n 2.5055749971092904 -1.2994767102812619 1.3174283244926386 -1.5896699346652035 -1.5657241765628687 -0.6068648220254959 0.3950213210655072 0.048021633788616715 0.2966853763446468 -1.2455801678804979 -0.060279862269718064 0.7524588629407799 0.5910136092851332\\n 1.0153886290527896 -0.018622272365924723 -0.4414914481509322 -1.146962610715015 -0.07027291694529877 0.5125453949885316 -0.6620489150104227 1.5806105389645153 1.0967775883492836 -0.9930443295663776 1.056477800534215 1.6188368821989123 -0.2617674499290606\\n -0.8360771297429177 0.20720580217348392 0.7372639684936912 -0.456059125461931 -0.22471855268925864 -0.9901197420590234 0.35693503019322304 1.0108287756567855 0.10939842690255777 -0.023819513869268387 0.14051779468117193 -0.011042937394535893 0.7571170707445699\\n -1.7724445786457297 -0.5098217934104651 1.3064920628477745 1.186338112307833 0.2675517837088998 -1.0830283835412973 1.2542290157013527 -1.8566790130424267 0.09508992629988972 1.4019820401085945 -0.44183793453333947 -0.4572892247789431 1.4420935164476045\\n -0.15996307179101785 -0.24157228344586243 1.5416445603918383 0.40892504478870484 0.17395221431759098 -0.041791358192550254 1.0973651751288165 -1.0639317256412324 -1.6310822939865544 -0.33120357636323067 0.7463689119760926 -0.7647998099138671 0.030472970879314717\\n 0.2467860895042601 -0.8903745567275843 1.4041043638091801 -1.6138670625445024 -0.15458778224321756 1.7096908255038967 0.35211619107530806 -0.46217716497086436 -0.8192728204326676 -1.012267271251117 0.7581077785539952 0.1801291163059296 1.0804951462356993\\n -1.9827415225529181 0.7227092498279881 -1.0133602515531441 -0.8055043214302093 -0.10212220564036517 2.5876273992297825 0.15229098468251365 0.43977418038542165 1.618951598946079 0.3568050814652094 -0.14189754345812733 0.2716361746854615 0.6643252943410052\\n -1.8064875290918907 -0.40762100918367916 1.819928255101878 2.345036675398699 1.5603109989416375 -0.4400216193086263 -0.896193211123779 -0.8301327111983529 1.0258623981017903 -0.34367626111854493 0.9242957935139053 1.3175733851929192 -0.4401117821322243\\n 0.2866535460553903 -0.41698766575357965 1.2499454304870563 1.4015624541509686 0.3731853322862763 -0.5891382263724645 1.4240793046265143 -1.312750634042513 0.9691999978751814 -0.009167735658043253 -0.4889068026510697 -1.6864046978828762 0.12249741614244723\\n 0.5658887926480267 0.9014915765905372 0.9110462069708458 -0.21439959961328547 -0.9460413516183185 1.3304530102028538 0.22139535598343854 0.8435877596613728 0.25582712484100223 1.1723704339086825 0.06045070929910279 -1.0358387943008145 -0.4969886408541098\\n 0.9955307226192961 1.5892116854071345 0.9287908019141988 -0.6412392816978244 0.19391347028963374 1.175759004051359 1.0892163718300412 -0.21442941653367617 -0.623081720445643 -1.5534949295403586 -1.8650239233735537 0.5522710061884901 -0.06325362739854712\\n -0.4422384189367665 1.131301401859922 -1.0145608721951571 0.6041180089489817 0.8918868678322538 0.9485441393619756 -1.5320581368935722 -3.2235667555154937 -0.8811525904808365 -0.49292775559326785 0.7532297306299004 2.781905512011611 -1.3652587315558746\\n 0.09257440748082987 2.0340598389158537 0.5620968870454736 1.0872678578829018 0.2548194674624475 0.22213487855297132 0.6793579565688581 0.34754589523762164 0.0914605770052325 0.45736653527155824 0.29775392307361526 -0.5663921857066933 0.6993811339155112])',)\n  File \"/Users/kuuranne/miniconda3/envs/python3/lib/python3.5/site-packages/scipy/optimize/lbfgsb.py\", line 188, in fmin_l_bfgs_b\n    **opts)\n  File \"/Users/kuuranne/miniconda3/envs/python3/lib/python3.5/site-packages/scipy/optimize/lbfgsb.py\", line 320, in _minimize_lbfgsb\n    f, g = func_and_grad(x)\n  File \"/Users/kuuranne/miniconda3/envs/python3/lib/python3.5/site-packages/scipy/optimize/lbfgsb.py\", line 266, in func_and_grad\n    f = fun(x, *args)\n  File \"/Users/kuuranne/miniconda3/envs/python3/lib/python3.5/site-packages/scipy/optimize/optimize.py\", line 285, in function_wrapper\n    return function(*(wrapper_args + args))\n\nwhile loading In[90], in expression starting on line 2",
     "output_type": "error",
     "traceback": [
      "LoadError: PyError (:PyObject_Call) <class 'TypeError'>\nTypeError('Julia exception: TypeError(:obj_func,\"typeassert\",Array{Float64,1},[0.7020796100086467 1.982739364672351 1.9104003906909102 0.4121258707018093 -0.22486936681626096 2.3075965239307643 -0.5770865719381716 1.552748674300808 1.0173030985328941 -0.3607993872091218 0.31829312794240333 -0.004153910407344055 -0.5128810383744409\\n -1.3739056401895118 0.8295878656789475 0.3609350767975557 0.19464942243718789 -2.421845118693326 -1.7819257609146597 -0.861471004713513 -0.8054207914151559 -1.3579570996856027 1.9285978126313763 1.16737734601621 0.3473649494756153 -0.41763901636334144\\n -0.13123320277248593 -1.1898163876266716 0.8591972023015223 -1.4945768920289924 0.8200841830376676 -0.7974343334211279 0.6333282127131068 1.1623342190685058 1.2388932197797373 0.4292640369855796 -1.4521352094533797 -0.7821132084406914 -0.7129062107386668\\n -1.820448824588141 1.0393849534185113 -0.1956524169777577 -0.5549409964388514 1.009297887455869 -0.9664192515690493 1.9116791192089988 -1.1500577597767856 0.6568354704813427 1.2413104472790863 1.029773421245475 -0.0976463360218974 -0.8849806354302133\\n -0.40877631744061155 0.06857263342948322 0.1274246440189565 0.025735278661471864 -0.4814829636168667 0.21724295144258352 -0.5621949690784623 0.6948780916537088 0.3715808193170206 -1.7638337735777023 -0.08630408632842505 -0.48906708376947733 -0.3630263459337162\\n 1.84126789295009 0.9425398807617075 1.160884774531147 -1.3987101823082166 -0.6503685157710121 0.5543512026687886 -0.8167979843984882 0.6379867832140711 0.8212168798759916 1.5281839494298557 0.4553759251654904 0.8901941566824556 -1.040587021218738\\n -1.0390744024132395 0.17027943163098674 2.309180363623132 1.372762784324509 0.6111016640791921 0.8159283986102477 1.252038899445798 -1.0548377225277912 0.8029917518597046 -1.0662864861035568 0.7033302035293683 0.659927044938813 1.101750413283036\\n 0.8615111317834645 0.6000427745399977 0.1575454882968028 0.2782035894925227 -0.28269323045459865 1.3595034127600856 -0.5271505076913541 1.0700881378095188 0.3015965591963333 0.2805690695801748 -0.5439212068059575 -0.13519772461476448 0.07585264841117796\\n 1.1969166080697242 0.49494455139172755 0.3674025872415859 -2.0496017406455382 0.6810774167465157 -0.542278290772128 1.3921920653725792 -0.44224420106042434 -0.33109874475566986 -1.5704876240787786 1.9386614146764878 0.779444492215438 -0.9762188310239354\\n 0.9631967446058998 0.24850756573756128 -1.664092273773475 -0.09375439688259511 -0.09336367569025197 0.051499931665757274 0.4329244452123189 -0.1208033175745148 0.7409270195674355 -0.8219584423417158 0.20383257748597777 0.1926414564053999 -0.6694886492544354\\n 0.13283034920389056 1.0965072285337583 0.057824097442129546 -1.658990226472056 -1.3340364696696234 -0.6365013378004515 -1.6938691951556089 -0.5371186537630515 0.8700871191882363 -0.07085358073493525 -0.1058690550270816 0.8886519962253755 1.3296581132665666\\n 2.732194555826585 -0.1825584961834258 -0.6098819285146095 0.7653257848104661 -2.075874180156552 -1.0957892222030103 -0.7131039114862632 0.46880408636106835 0.7077905812620401 2.0992728110339347 0.1883809523898902 1.330805677686647 -0.8037040413888733\\n -1.6673233026283774 -0.806056945484242 -0.6829849087959453 -1.8870753640156674 -1.320940561388796 -0.1555944254153443 -0.7362243488283065 -0.5463436296458996 1.39759951200519 -1.260465126251096 0.6468777121309728 -0.247600691488269 -1.1179586913758712\\n -1.1596914004159715 -0.8251232750403044 -1.3496449725138007 -0.6967418518278283 -0.012452424616791512 -0.4697261216507483 -0.8874773261468921 0.49251949378355725 0.448322774029839 -1.0544558090902056 0.92645333920057 -1.0805120847756398 -0.3025412529075129\\n 1.2892614210615367 1.7939961913112727 -1.2891484086951468 0.8646064334165608 -2.854244030933972 0.1926147910305953 0.8788687000404855 -0.2508101405601616 0.34443912578762104 -1.4727247993053074 1.4651879083929935 0.16264410587601685 -0.3734651309768654\\n 0.9090017595762203 0.6906281377200469 -0.7689898845522387 0.9301663676413919 -0.8452828362858215 0.3111807804069249 -0.5977611918763367 -0.3516110382252402 -0.9651465503756272 -1.1143362152977616 -0.816184696884541 0.1202272847732074 1.0199831805412474\\n 0.1486854501432561 -0.7667433012232506 -1.3351051549617736 -1.215023025173744 1.087493403440381 0.9273494743216862 0.47385890657158714 -0.3331670642400474 0.5161481770592684 0.432879516327233 -1.3238547563015175 0.9581984997030201 1.7020397402670688\\n 0.027224681665497238 0.6221575894404181 -0.2471530591478446 1.578105309791835 -0.21305670756280584 1.2278700425642743 -0.7273007338418104 -0.37163513520941754 -2.1804901219388793 0.8552623581743378 -0.7673715483809624 2.133403508718202 -1.6742240672480218\\n -2.780381699647889 -0.2157388216286073 1.2274293069001774 0.8523668281524601 -0.722446214584031 -0.050062654194238956 1.1688893183793996 -1.6364090099603283 1.5882668198575447 2.293176901959972 0.9958014465622874 -0.27482403751047824 0.5675521581010382\\n -1.5476192929501904 -0.9101293742334061 -2.1310224536626787 -0.1293412398099971 -1.133841711397841 0.9873502779453387 1.6897861901966407 0.44573373955051904 0.8386998416601663 0.6860721434189894 -2.080999993354929 1.0321019846670396 -0.2935262675763384\\n 0.32097518281300697 -0.32214148714744567 0.9254583336121103 0.24943305355003015 -0.19391620190017828 -0.793558056265533 -1.5957828433761934 0.7732892249157045 -0.47568683980530496 0.7740317726320782 0.37863682759563394 1.9662215813665223 0.6788653144524713\\n -0.064968105306386 -0.27808204754463667 0.20415445351133288 2.2690070294377054 -1.4674438799970255 0.13902660289378876 -0.6733863808436199 0.08310824950653922 1.3769766296770969 -1.4112978153409967 -0.70898530445027 -0.9793888319644746 -0.5576619705715564\\n -0.08429371165103698 1.2692626950269938 -2.8305883018201508 -1.3826507408680642 0.3873186455128111 0.152729205529654 -1.0288719271457905 -0.05420403996265777 0.9043788284424525 -0.29979631661444645 0.20218472089322748 -0.8553268797591941 0.8900041243051138\\n 0.5738078560356421 0.19345633377103683 0.9323567509288989 0.1604634328112003 0.6732896593616061 0.5821212256547583 -0.39607006941967643 -1.5732846913157186 0.22009493178710457 0.6073503237251302 0.013945114297601495 1.4318425805949881 0.1264023618427466\\n -0.24781993574264996 2.184045705615377 -1.9167082183907795 -0.03854999987777516 2.3216743531433197 -2.1041549297785833 1.3498519867310452 -0.6632502783545332 -0.5598147185875927 1.4764524153081773 0.786542947055423 0.0884487925957736 -0.06081818553562276\\n 0.28813604103663615 -0.9394356898779409 -0.060025936398052315 1.6501613308225842 -1.126254550264479 -0.20263894242043395 0.4609958718256648 0.8190250701233103 -0.873027248048519 0.7161178581360673 -0.2395450672926208 0.7076458207286378 1.1631172953744797\\n -1.2039968566435828 0.34816387074503585 0.6371374783027614 1.7342027064477823 -1.0027523736708197 -1.179552218340675 0.2552178970049602 0.42000771808461546 0.04378364282546021 0.08749837614366215 -0.1442838313307662 0.7645237708359056 0.3612645598428024\\n -0.14667656302133364 -0.8346643952078658 -1.2667127158826095 1.0339309843451312 0.4527704380307886 -0.9373537061076649 0.3232642114315169 0.06827625638601208 0.6771544566332783 -1.0300221458120686 -0.8188739417576812 -1.230373288483551 0.6559640477121705\\n -1.078094503596768 -0.29488150415458875 1.141483831631783 -0.5203029258641151 -0.4739299375716247 1.0899682961008468 2.8720094467479282 -0.6782713658570395 -0.287971924504155 -1.1102808965089022 -0.19381639761370892 -0.8638948432626012 -0.14920347593137404\\n 0.21933305871941414 -1.4697264786662252 -0.10398151144373029 0.7094845208346356 -0.5216175676893658 0.4115801450513653 1.1246527793457126 -2.1566989324095136 0.592451662878747 -0.9368470740267733 1.945738641626139 -0.733777629105778 0.1912161980643466\\n -0.5637690622726995 -1.5881232898654307 0.32556678682330514 -0.7467569928247282 0.6877456492162219 0.4631876985356636 -2.5830521845163172 0.05963979637209197 -1.1925156898014824 -0.9027256100362623 0.549415309306569 -0.2466626707735934 0.5563863114432226\\n 0.7875388137253643 -0.5997754962279493 -1.7646952168607435 0.536192231075204 -0.1318513357965193 0.678854757831934 -0.6771921994100693 -0.43615534321152105 0.08671819265499492 0.2795529802877498 -0.668064225712831 -1.2561562515638345 0.11557853492634841\\n 1.1906709580499069 0.2487322505346474 -0.9889421759810443 -0.6596401953838112 -0.9809470224241184 0.7038907659511457 -1.4555552956187978 -1.9156533785255043 0.8738367878621167 -1.1388109662775578 0.5431256811277307 -0.2291196004362939 0.019505853447457883\\n 2.2487755057503676 2.5469159176626692 -0.7100698388847103 1.3777427867220113 0.27720142348714366 -0.7850190977449468 0.0022570917060568945 -0.9119870524014566 0.35267411390585635 0.44399450125235573 -0.12134134501442702 -1.3485440079560627 0.6775671883729848\\n 1.5280381808624703 0.17816470805151524 0.9760481389972582 -1.0286044664675884 -0.5176677936869981 0.1205567629253463 -0.501084874674611 -2.5320827117771083 -1.753268585480883 0.5869479484573893 0.246595875147455 0.7147966820490941 -0.43837342070481017\\n -0.3298337537789666 -1.104365690987599 0.5756786585790782 2.444884605226661 -2.1368262285060906 0.9538216109503324 -0.4327565353204818 0.9222071695544718 -1.7154247668316929 0.8003683381516085 -0.3917712179763739 -0.25572652858199274 0.47348801389425943\\n -0.7528599246898814 2.7426934737793824 -1.548449962970703 1.4424724607311348 -0.46420619520348627 0.05563675051651234 -0.32974692007218503 0.5034500192897856 0.012868856237302353 0.08376575711293655 1.9430845532981658 1.939294877874585 1.3277438969054778\\n -0.11520308148341481 -0.32232416605941866 0.5767886603590078 0.8384849594866494 1.0322724188471242 0.8445431994339264 0.33762402356592747 -0.9620854762317214 -0.20071362404740092 0.7992254966234729 1.4282573807280894 -1.299756035477679 0.681105293430429\\n 0.3620808419766064 0.32413349283933535 0.6817873479698716 -0.3542794946536637 -1.0130934251439034 1.7979689695268177 0.6226185778643027 0.2934388741886176 1.4418933148346131 0.190673243814774 0.49462459495856737 0.3422837797548092 0.6536932478861076\\n 0.9566371188846213 -0.46250866890084824 0.4252277118133269 0.8701333463312914 1.144228583502836 0.5964449608973617 -0.30155620108778763 -0.017728969271242883 -0.00652889721514959 -0.058876185009781506 -1.1742270995650426 -0.9572656875682137 -1.5012632284589262\\n 0.5560295213476836 0.6013234067695056 -2.089142508070344 -1.3994780047827295 0.03797234235097847 0.9398834309162534 1.721814958665199 0.18788427975782612 -0.8479579020096609 1.382826263105517 0.5039053000339743 -1.3917631873176333 0.6916045061594651\\n -0.4088330243050758 1.7598477325412112 1.4754235114645904 -1.4249201137747558 -0.7656605899024264 0.4820040546918723 -1.2179881601345468 -1.5328112467608872 0.027702360694916155 -1.1593460813112137 -0.710212305622836 0.06746274372875477 -1.7720998927266438\\n -0.8918939049385214 1.4417814486954414 1.7314064110897225 0.5672793559635291 -0.5465979313063722 1.7685655243647875 -0.05539733987171853 1.3308178053486626 0.14479542430882403 0.21533780692110915 -0.9209613241264825 1.09160190140231 -1.5527145913267613\\n -1.1039167021329421 0.3158151878516852 0.7999252542405214 -2.5500376835235774 -1.0937465951523198 -0.6058762334752498 0.4526235385053577 -2.380264637549032 0.7282597352601536 1.8533912606414071 -0.6492503604998691 0.03359674461059913 -1.3208767188183215\\n 0.9271241919835012 1.4413000068477357 0.7405365650538884 1.0879077559715713 -1.6876031754047893 -0.7657713171829303 -1.7988654733243798 0.36045199659302257 0.8474809803803616 0.1783260967551584 -2.3353582103031267 0.08823081004602798 -0.49373096314898535\\n -2.0966029970912277 -0.044446277606030066 0.9643696581663826 0.9124093959361467 0.18719175625106713 -0.34422313565849616 -1.2471016646980368 -0.08617361492382059 -0.3676066381006185 1.1134970757994918 -0.5035723719343291 -0.6153562036158682 -0.32428179369750465\\n 0.9813927924841359 -0.5078686428100238 0.25242485759159206 -1.8227493757730115 -0.3523786776109686 0.0749584216112894 -0.560406935748913 1.5939575973957547 0.5091463297065969 -0.48552149884989304 -0.7963023807084217 -0.29104332242328385 -0.7353029981930971\\n 0.28605541972973436 -1.1511845354738484 -0.7512597430898379 -0.14079082051357664 -1.2013404463791837 0.3581554035342122 -1.8379622346922477 -0.1821204658351514 0.4998703307257513 -1.3469106269107727 -0.766310315935852 0.1324712811092351 0.12576379026514192\\n 0.5090086691558994 -0.31196567191873614 0.7535971420934409 1.279486961393225 0.1758184536729367 0.7928764259460506 1.026856631320009 0.48655000133323895 0.3692811934278855 -0.5470090086763782 -1.0354769712485041 -0.5036198407603258 -0.5668561659084554\\n 0.9242647611434957 -1.437385760163643 0.9626018037952007 1.2248036959663933 1.6412082126010141 -0.655707636652133 0.9095583585621558 -1.9800992332526037 -0.2911909577460149 -1.0489018636895697 -1.580014823692262 0.21162744663236233 1.0188088740697117\\n 0.10220879065399839 -0.4181514754496925 1.0516535601927461 0.06520711824848159 0.030350478928352225 -1.9982765648640075 -0.17349541902392163 -0.13626290498297505 -0.9743062329810936 -0.11575897859152956 0.22538483056461764 -0.2927033526336056 -0.20898571277934053\\n 1.6542473784899479 0.7625325737676674 -0.5100274052500046 0.6109381421150879 0.897595683941011 -0.8491892031430778 -0.4897214950647823 -0.011280989939102782 1.8002852847483715 0.12377912367679705 0.4908091633343163 1.2409449738082263 0.7514536578620946\\n 2.0348183219065414 -0.525732451555475 -0.8373569113980746 0.6649723519211488 0.0270903720267557 -1.1247291804639397 -0.5757484261090556 0.6262668703000682 -1.0855117410072992 0.8194914740948047 -1.0177309039004445 0.6684581932778821 -0.8999311463288898\\n 0.9777053786729367 -2.123577935089639 -1.562058554670249 -1.6620275768442492 -0.11174559139743957 1.3655907917524128 1.2677613916495702 -1.0426682718649918 1.0585387751669664 1.0508055138261325 0.34241613878621613 0.010881901973036573 0.03361438550250916\\n -0.10443646525695557 -0.3824910650174072 2.418858900078421 -2.17090191837145 0.982420574614046 -0.37721517603485144 -1.2504692039509075 0.29571132430014524 0.7521891491361169 -0.31032647721934503 0.6248160401101512 0.47793945094531476 1.1029091332963337\\n -0.530233503275987 -1.7672355790757546 -0.383529021169097 0.25830910062511936 0.35943364521920573 -0.22049539868951396 0.24961636810362864 0.6883992514661019 -3.1028965799788777 -0.12642354023021204 0.9489678481350107 0.6823257956728477 -0.5295509472873684\\n -0.10716273074143828 -0.5111161803639039 -0.7604338625292666 -0.06554961182997701 1.6610527588583428 -0.48903372295339975 -0.0053866044766691205 0.3132737359770148 0.5875184232902017 0.28981806755483003 -0.5389384811223277 1.6273531455288823 1.6286076867170203\\n 0.6234980276591352 0.339650350497738 0.11869372722260985 -0.2262972770934266 -0.6031158956125297 1.511550593569532 -1.9991675672388218 0.2020136173289834 -1.7355229980389244 -0.6347603550894074 1.4822220111487614 -1.1260693550161678 0.4535913715174177\\n -0.024996260220556073 0.9842094169209021 0.1502960150910038 -0.7459527737574964 -0.6470013241357482 0.18503221390552027 0.1250500050361838 -1.1468979033646547 1.136151277977662 -1.600630867140083 -1.0198532235682987 2.0571418617630264 -0.5955666617706245\\n 2.6032450012890553 0.7081541675703379 0.23159582663698167 -0.9881283932248447 1.2237409357910485 0.6038237541126 0.5301156950682946 -0.6658852870614126 0.0023816976792051963 0.2509096815990323 -2.3911933757678705 -0.09675846576242522 -1.3074135954404273\\n 2.408113219025182 1.088176438927698 -0.9845638259305471 0.8804730240503128 0.5669982202118468 -1.014506162271598 -0.16391163853325352 -0.21903734676876446 -0.2889951265010217 1.734158476728003 1.263507519078261 -0.3773795650161331 -1.1699754803175821\\n 0.4368586228603578 -0.5153497959266797 2.1693418986740944 0.7165401977118272 -0.41020336464642904 -0.2056264207404249 0.7798283536704884 0.10636209786241337 1.0741986991982841 -0.6366770757181253 -1.3350061259160404 -1.4401067865511141 1.2656992529336075\\n 0.32628561872530887 0.5056518077189993 -3.0628803495386325 0.8737361189984321 -0.27682716021309595 -0.15550791317408538 0.5568157340566261 -0.8029249677805869 -0.5058429779677608 0.9857866045439623 0.9336779887908769 0.8112764349128568 1.2026469284999104\\n 1.7963029268008461 0.17244561202930253 1.2605358086553815 0.2293440528078642 0.22974012494226165 0.051622173790502324 0.8261895137908933 0.3294782298297084 1.4244908641808998 -1.5822547820994732 -0.7227023795012676 1.4535609307395159 -0.7273675324680808\\n -1.0291560310545904 0.9408761592685282 0.7971527775785201 0.600210442967675 0.8114919629917523 1.3535954888597768 0.4165631485194942 -1.0364678003489398 -0.0948000345415164 0.5595148838900365 -0.44746243187201856 -2.0109289482472152 -0.3748372569521163\\n 0.264404453762369 -1.019979239788224 -0.1392944025514436 -0.7784723387257243 1.1672778659125977 -0.6359240311586868 -0.8075685837428155 0.8573196994737619 -0.6662491373027497 -0.9381776455682188 0.23846199177520896 0.4499190635876687 -0.7339956093956725\\n 0.4508418811986173 -0.02308654750702062 0.6433511602124496 -0.2789086410537875 -0.32892540751444965 -1.0462782085076514 2.0666009617700998 0.672513034151509 -1.6755723211605895 -1.144263324519334 1.301931677144966 0.3794383698705723 -0.794863023810237\\n 0.21295977700208618 0.2489423534834145 0.2284072312615091 -0.6154771774613131 -1.5787704099760411 0.28099308578245735 -1.2218960409132615 -1.9789879516812663 -0.7623577512720513 -0.46372635058617323 -0.09275275828429616 -1.360271417542343 -0.9395778865346267\\n -0.7662470119888796 1.199481960941542 1.518375688582621 -1.2217143869269358 -0.5038535956547396 -0.19037116526135361 1.3921624692484975 1.7543844654207392 -0.7932222901427018 -0.5181574648710587 0.36591763718239007 1.0003192064424722 0.06643407590415965\\n -0.3857377688473567 0.3684822000440362 0.8398698339292844 -1.2637371016043266 0.4598007404286228 -0.10462132642372621 0.9193530858484024 -0.9103072313491958 1.3145687604498584 -1.8103175119998105 0.17469635849805074 -0.12890053658148923 0.23653539077825791\\n -2.9627394404708025 0.0981085112259807 -0.39399755448327073 -0.20240456812269822 1.1848599491221252 -0.4151999647484064 1.6536845965086935 -0.9325013483220823 -1.556859419413431 -0.6123902775871995 -0.523955510847599 -0.09238172302962584 -0.7025163778980538\\n -0.24256152280765325 0.3775431581645769 0.06485610363344377 0.2618614693755951 -1.018545135852924 -0.22076893641874687 -0.10677264049823641 -1.7621943161307865 0.522513030032189 0.45674729847757917 -1.1302129784758854 1.5822029858559263 -1.3597931582179787\\n 0.12142661183291871 -1.1049002518489848 -0.6017103663668938 -1.2497089705528144 0.46406951039290345 1.4589390792273274 -0.5272496471047627 0.5895733047143037 0.2781895883918578 0.26296998643839 -1.0797899773213637 -1.270517708912864 2.730093973797742\\n -0.13223384851721967 0.5991400434517543 -0.9684147717048708 1.3621807672236652 -0.931274988253083 -1.381847063645141 0.0018243384987936765 2.2155578924232655 0.6193536322127745 -0.498577482944412 -1.1280022425124543 -0.36540748228591674 -0.7218456946366614\\n 0.7769324283846009 1.0893601944718287 -1.7997602805970738 0.9797852427571523 -0.26407344329362287 2.077701282719863 1.6007103698225462 -0.5205889290800921 -0.8060990070213998 0.5763195513811952 -0.8310639841752162 0.2400809773142802 1.7496458882441626\\n 0.9442948309681026 0.6345319696058658 0.012459886386850036 -0.007481663582504531 -1.2155572727439845 0.04927168077332436 1.2018336539524068 0.1828346594852126 -1.0983151384475842 -0.1302412572718122 0.024241316608739263 0.06992442076306511 1.1755867302533842\\n -0.312569859386454 -0.532795343394182 -0.3825171212873613 -0.05685639091638796 2.0021501566878523 0.20290719492894757 -2.2729389064593915 0.4445805725855035 -0.17262257227936537 1.1796396008821193 -0.26300927017968123 -1.3238672119550887 0.8293621415106457\\n 0.8190462369174449 0.9660992309028726 0.6779415804913572 0.5708266541604183 1.2524021933741902 -2.609109227233193 0.7966047135835032 0.30710899450390033 -0.43419322933446725 -0.28287943133652177 -1.2361184511027066 0.9574384458459836 0.11578984373036201\\n 0.4635899793064 1.1135877211233494 -0.567602604527952 -1.5335545546499352 0.9720149340251772 0.4571518868314425 0.9022993265136807 -1.7727523751855911 -1.305905745590765 -0.36919220896120275 -0.742949556343289 1.2156839151367393 -1.2642064452979545\\n -0.21776037046737198 -0.5974375696899058 0.32346222981871675 1.6048648353703951 0.6541595462011021 0.14219106617826907 -0.3818935862575552 1.858506042925086 1.1269572512465678 -0.5324152661623768 -0.3635077113278564 -1.2877180092951688 1.0370090882529592\\n -0.9908455798629986 1.0711076808856554 -0.4508002352969499 -1.152885228881501 -0.647001488258921 -0.4015752886964203 -1.6584239020894533 -0.8987087225824769 -0.11750786017115503 0.9640282686091005 -1.0590320336805803 -0.040749186561733215 0.8996418746497455\\n -0.38327270898554605 2.2229535687898685 1.3245154443113447 0.6669316795407594 -0.301844950508878 0.7232338683507578 0.769860572313631 -0.10114522078696025 -0.3788589443163403 -0.08019119407043719 -1.2982450896864124 0.4015344091289167 -0.6849371188085561\\n -0.13736687125560754 0.11977432695976939 0.49137623485876963 -0.829449350580118 -1.1825986036687937 0.4409135074549187 -1.344768961909338 0.23876372823460054 1.1397381133295303 0.4910840299416182 0.5739594410319432 0.636305895170186 0.8531892374643868\\n 0.8975594421344559 -0.48730659216011246 -0.28893604357267566 -0.501665616138854 -0.6433768529314934 -2.0831923126485012 -0.04724323681381707 0.09251417139460684 1.5046429298932322 -1.5852205528616625 0.00671518051904307 -0.11136837263944922 0.842457307005556\\n 1.2118204887783408 -2.51677018255424 2.9655222356453543 -1.0289742924836667 -0.6751362621244332 1.91120655519681 0.646596698598731 -0.45627203380071957 0.3648541698344871 0.43967903115122225 -1.1534839049713246 -1.2769174058410622 -1.4565759219531451\\n 1.230222049564724 -1.2173476664968144 1.728487117894725 0.9738954113916317 -0.18339336749415916 -1.6564657035543464 -0.622959399910876 -1.8924974530720597 2.54747705894868 0.3285834491998741 -0.44816572820216166 -0.4225698632811367 -0.8325794002787732\\n 2.5055749971092904 -1.2994767102812619 1.3174283244926386 -1.5896699346652035 -1.5657241765628687 -0.6068648220254959 0.3950213210655072 0.048021633788616715 0.2966853763446468 -1.2455801678804979 -0.060279862269718064 0.7524588629407799 0.5910136092851332\\n 1.0153886290527896 -0.018622272365924723 -0.4414914481509322 -1.146962610715015 -0.07027291694529877 0.5125453949885316 -0.6620489150104227 1.5806105389645153 1.0967775883492836 -0.9930443295663776 1.056477800534215 1.6188368821989123 -0.2617674499290606\\n -0.8360771297429177 0.20720580217348392 0.7372639684936912 -0.456059125461931 -0.22471855268925864 -0.9901197420590234 0.35693503019322304 1.0108287756567855 0.10939842690255777 -0.023819513869268387 0.14051779468117193 -0.011042937394535893 0.7571170707445699\\n -1.7724445786457297 -0.5098217934104651 1.3064920628477745 1.186338112307833 0.2675517837088998 -1.0830283835412973 1.2542290157013527 -1.8566790130424267 0.09508992629988972 1.4019820401085945 -0.44183793453333947 -0.4572892247789431 1.4420935164476045\\n -0.15996307179101785 -0.24157228344586243 1.5416445603918383 0.40892504478870484 0.17395221431759098 -0.041791358192550254 1.0973651751288165 -1.0639317256412324 -1.6310822939865544 -0.33120357636323067 0.7463689119760926 -0.7647998099138671 0.030472970879314717\\n 0.2467860895042601 -0.8903745567275843 1.4041043638091801 -1.6138670625445024 -0.15458778224321756 1.7096908255038967 0.35211619107530806 -0.46217716497086436 -0.8192728204326676 -1.012267271251117 0.7581077785539952 0.1801291163059296 1.0804951462356993\\n -1.9827415225529181 0.7227092498279881 -1.0133602515531441 -0.8055043214302093 -0.10212220564036517 2.5876273992297825 0.15229098468251365 0.43977418038542165 1.618951598946079 0.3568050814652094 -0.14189754345812733 0.2716361746854615 0.6643252943410052\\n -1.8064875290918907 -0.40762100918367916 1.819928255101878 2.345036675398699 1.5603109989416375 -0.4400216193086263 -0.896193211123779 -0.8301327111983529 1.0258623981017903 -0.34367626111854493 0.9242957935139053 1.3175733851929192 -0.4401117821322243\\n 0.2866535460553903 -0.41698766575357965 1.2499454304870563 1.4015624541509686 0.3731853322862763 -0.5891382263724645 1.4240793046265143 -1.312750634042513 0.9691999978751814 -0.009167735658043253 -0.4889068026510697 -1.6864046978828762 0.12249741614244723\\n 0.5658887926480267 0.9014915765905372 0.9110462069708458 -0.21439959961328547 -0.9460413516183185 1.3304530102028538 0.22139535598343854 0.8435877596613728 0.25582712484100223 1.1723704339086825 0.06045070929910279 -1.0358387943008145 -0.4969886408541098\\n 0.9955307226192961 1.5892116854071345 0.9287908019141988 -0.6412392816978244 0.19391347028963374 1.175759004051359 1.0892163718300412 -0.21442941653367617 -0.623081720445643 -1.5534949295403586 -1.8650239233735537 0.5522710061884901 -0.06325362739854712\\n -0.4422384189367665 1.131301401859922 -1.0145608721951571 0.6041180089489817 0.8918868678322538 0.9485441393619756 -1.5320581368935722 -3.2235667555154937 -0.8811525904808365 -0.49292775559326785 0.7532297306299004 2.781905512011611 -1.3652587315558746\\n 0.09257440748082987 2.0340598389158537 0.5620968870454736 1.0872678578829018 0.2548194674624475 0.22213487855297132 0.6793579565688581 0.34754589523762164 0.0914605770052325 0.45736653527155824 0.29775392307361526 -0.5663921857066933 0.6993811339155112])',)\n  File \"/Users/kuuranne/miniconda3/envs/python3/lib/python3.5/site-packages/scipy/optimize/lbfgsb.py\", line 188, in fmin_l_bfgs_b\n    **opts)\n  File \"/Users/kuuranne/miniconda3/envs/python3/lib/python3.5/site-packages/scipy/optimize/lbfgsb.py\", line 320, in _minimize_lbfgsb\n    f, g = func_and_grad(x)\n  File \"/Users/kuuranne/miniconda3/envs/python3/lib/python3.5/site-packages/scipy/optimize/lbfgsb.py\", line 266, in func_and_grad\n    f = fun(x, *args)\n  File \"/Users/kuuranne/miniconda3/envs/python3/lib/python3.5/site-packages/scipy/optimize/optimize.py\", line 285, in function_wrapper\n    return function(*(wrapper_args + args))\n\nwhile loading In[90], in expression starting on line 2",
      "",
      " [inlined code] from /Users/kuuranne/.julia/v0.4/PyCall/src/exception.jl:81",
      " in pycall at /Users/kuuranne/.julia/v0.4/PyCall/src/PyCall.jl:361",
      " in call at /Users/kuuranne/.julia/v0.4/PyCall/src/PyCall.jl:388"
     ]
    }
   ],
   "source": [
    "count::Int = 0\n",
    "res = scipyopt.fmin_l_bfgs_b(\n",
    "    obj_func,\n",
    "    x0=optVarInit,\n",
    "    #x0=optVarInit[1:3],\n",
    "    epsilon=1e-5,\n",
    "#     args=(\n",
    "#         training_sensitive, training_nonsensitive, \n",
    "#         ytrain_sensitive, ytrain_nonsensitive, k, 1e-4,\n",
    "#         0.1, 1000, 0\n",
    "#     ),\n",
    "    bounds=bounds,\n",
    "    #bounds=bounds,\n",
    "    approx_grad=true,\n",
    "    maxfun=1500,\n",
    "    maxiter=1500\n",
    ")"
   ]
  },
  {
   "cell_type": "code",
   "execution_count": 86,
   "metadata": {
    "collapsed": false
   },
   "outputs": [],
   "source": [
    "# res[1]"
   ]
  },
  {
   "cell_type": "code",
   "execution_count": null,
   "metadata": {
    "collapsed": false
   },
   "outputs": [],
   "source": [
    "count::Int = 0\n",
    "# # Call L-BFGS\n",
    "# res = optimize(obj_func,\n",
    "#     optVarInit,\n",
    "#     method = :l_bfgs,\n",
    "#     xtol = 1e-4,\n",
    "#     grtol = 1e-12,\n",
    "#     iterations = 1000,\n",
    "#     store_trace = true,\n",
    "#     show_trace = false)\n",
    "\n",
    "# TODO: Can we use upper and lower limits for 𝐕? Will it speed up the optimizer?\n",
    "#       The prototypes need to lie inside the smallest hypercube that contains all original datapoints, yes?\n",
    "\n",
    "d1 = DifferentiableFunction(obj_func)\n",
    "# # Note that d1 above will use central finite differencing to approximate the gradient.\n",
    "\n",
    "res = fminbox(d1,\n",
    "    optVarInit,\n",
    "    bounds_lower,\n",
    "    bounds_upper,\n",
    "    xtol = 1e-4,\n",
    "    grtol = 1e-12,\n",
    "    iterations = 100,\n",
    "    store_trace = true,\n",
    "    show_trace = false)\n",
    "# In tutorial: @elapsed fminbox(d4, x0, l, u)"
   ]
  },
  {
   "cell_type": "code",
   "execution_count": null,
   "metadata": {
    "collapsed": false
   },
   "outputs": [],
   "source": [
    "#opt = Opt(:LD_MMA, 2)\n",
    "opt = Opt(:LN_SBPLX, length(optVarInit)) # Use a derivative-free optimization algorithm (instead of L-BFGS)\n",
    "\n",
    "# Lower and upper bounds for alphas and 𝐰\n",
    "lower_bounds!(opt, bounds_lower)\n",
    "upper_bounds!(opt, bounds_upper)\n",
    "\n",
    "# Tolerance\n",
    "xtol_rel!(opt, 1e-4)\n",
    "\n",
    "# Stop when the number of function evaluations exceeds the second argument.\n",
    "#(0 or negative for no limit.)\n",
    "maxeval!(opt, 200)\n",
    "\n",
    "# Stop when the optimization time (in seconds) exceeds the second argument.\n",
    "#(0 or negative for no limit.)\n",
    "maxtime!(opt, 60*2)\n",
    "\n",
    "# Minimize\n",
    "min_objective!(opt, obj_func)\n",
    "\n",
    "(minf,minx,ret) = NLopt.optimize(opt, optVarInit)\n",
    "println(\"got $minf at $minx after $count iterations (returned $ret)\")"
   ]
  },
  {
   "cell_type": "markdown",
   "metadata": {},
   "source": [
    "# Optimization, running the algorithm\n",
    "Hyperparameters for the objective function.\n",
    "In the paper they use grid search to find the parameters. The sets defined here are the same as in the paper."
   ]
  },
  {
   "cell_type": "code",
   "execution_count": null,
   "metadata": {
    "collapsed": false
   },
   "outputs": [],
   "source": [
    "# Sets of hyperparameters as in paper, for grid search\n",
    "gridA = Dict(:z => Set([0.1, 0.5, 1.0, 5.0, 10.0]), :x => Set([0, 0.01]), :y => Set([0.1, 0.5, 1.0, 5.0, 10.0]))\n",
    "# An example of selected hyperparameters, for development\n",
    "A = Dict(:z => 0.01, :x => 0.5, :y => 1.0)"
   ]
  },
  {
   "cell_type": "markdown",
   "metadata": {},
   "source": [
    "# TODO\n",
    "- Overall process with pictures\n",
    "- Try Lx Ly Lz with Float64 matrices"
   ]
  },
  {
   "cell_type": "markdown",
   "metadata": {},
   "source": [
    "# Problems/Cons/Notes:\n",
    "- Nothing said in the paper about choosing the number of prototypes $K$\n",
    "- Let's say that there is a column/feature \"Religion\" in the dataset.\n",
    "- Now this paper says we can only say that \"Is a member of protected group\" or \"Is not a member of protected group\".\n",
    "- You have to decide what is the \"protected\" group, and what is the \"normal/non protected\" group. You have to decide based on some external criteria who are discriminated against and who are not.\n",
    "- Let's say we have a dataset with a feature \"Religion\" and we have 5 different religions represented.\n",
    "- Now we have to choose which ones are protected and which ones are not.\n",
    "- The problem of course is that some might be in general discriminated against more than others. There is not necessary even split between the different groups that are discriminated against.\n",
    "\n",
    "- What we would like to say is that \"Religion\" is a sensitive feature, and we should not infer _anything_ from it, regardless what it is.\n",
    "\n",
    "- Does running the algo multiple times help, changing the binary classification each time? Can we extend it so that $S \\in {1,...,C}$ where $C$ is the number of categories in the sensitive column.\n",
    "  - We can extend, just split $L_z$ to multiple cases and the optimization is done to all of them. There will be $c = \\frac{(C-1)C}{2} \\approx O(C^2)$ pairs. Whether this is computationally still feasible is another question. In the objective function $L_z$ is replaced by $A_{z_1} \\cdot L_{z_1} + A_{z_2} \\cdot L_{z_2} + \\dots + A_{z_c} \\cdot L_{z_c}$.\n",
    "\n",
    "- On the current case where $S \\in \\left\\{0,1\\right\\}$ once we have set for which rows $S=1$ and $S=0$, we can flip them around without changing anything. This is because we are using statistical parity. This means that from the algorithm's perspective saying that group0 is non-protected and groups 1..4 are protected is the same as saying group1 is protected and other non-protected."
   ]
  },
  {
   "cell_type": "code",
   "execution_count": null,
   "metadata": {
    "collapsed": true
   },
   "outputs": [],
   "source": []
  }
 ],
 "metadata": {
  "kernelspec": {
   "display_name": "Julia 0.4.2",
   "language": "julia",
   "name": "julia-0.4"
  },
  "language_info": {
   "file_extension": ".jl",
   "mimetype": "application/julia",
   "name": "julia",
   "version": "0.4.2"
  }
 },
 "nbformat": 4,
 "nbformat_minor": 0
}
